{
 "cells": [
  {
   "cell_type": "code",
   "execution_count": 1,
   "metadata": {},
   "outputs": [],
   "source": [
    "import pandas as pd\n",
    "import matplotlib\n",
    "%matplotlib inline\n",
    "from sqlalchemy import create_engine\n",
    "import matplotlib.pyplot as plt\n",
    "import seaborn as sns\n",
    "import pymysql\n",
    "from sklearn.linear_model import LinearRegression\n",
    "from sklearn.model_selection import train_test_split\n",
    "from sklearn import metrics\n",
    "from sklearn.metrics import mean_squared_error\n",
    "import pickle\n",
    "import matplotlib.dates as mdates\n",
    "from datetime import datetime"
   ]
  },
  {
   "cell_type": "code",
   "execution_count": 2,
   "metadata": {},
   "outputs": [],
   "source": [
    "from sqlalchemy import create_engine\n",
    "USER = \"ciara\"\n",
    "PASSWORD = \"Ciara123\"\n",
    "PORT = \"3306\"\n",
    "DB = \"dbbikes\"\n",
    "URI = \"dbbikes.cvr6gofoxmkp.us-east-2.rds.amazonaws.com\"\n",
    "engine = create_engine(\"mysql+pymysql://{}:{}@{}:{}/{}\".format(USER, PASSWORD, URI, PORT, DB), echo=True)"
   ]
  },
  {
   "cell_type": "code",
   "execution_count": 3,
   "metadata": {},
   "outputs": [],
   "source": [
    "sql = f\"\"\"\n",
    "SELECT id, number, updated_on, available_bikes, available_bike_stands\n",
    "FROM dbbikes_info\n",
    "WHERE updated_on is not null and updated_on >= '2021-03-24 19:25:16' and number != 507\n",
    "GROUP BY id, day(updated_on)\n",
    "ORDER by id desc, updated_on desc;\n",
    "\"\"\""
   ]
  },
  {
   "cell_type": "code",
   "execution_count": 4,
   "metadata": {},
   "outputs": [
    {
     "name": "stdout",
     "output_type": "stream",
     "text": [
      "2021-04-14 22:52:13,698 INFO sqlalchemy.engine.base.Engine SHOW VARIABLES LIKE 'sql_mode'\n",
      "2021-04-14 22:52:13,699 INFO sqlalchemy.engine.base.Engine {}\n",
      "2021-04-14 22:52:13,850 INFO sqlalchemy.engine.base.Engine SHOW VARIABLES LIKE 'lower_case_table_names'\n",
      "2021-04-14 22:52:13,851 INFO sqlalchemy.engine.base.Engine {}\n",
      "2021-04-14 22:52:14,103 INFO sqlalchemy.engine.base.Engine SELECT DATABASE()\n",
      "2021-04-14 22:52:14,104 INFO sqlalchemy.engine.base.Engine {}\n",
      "2021-04-14 22:52:14,350 INFO sqlalchemy.engine.base.Engine show collation where `Charset` = 'utf8mb4' and `Collation` = 'utf8mb4_bin'\n",
      "2021-04-14 22:52:14,351 INFO sqlalchemy.engine.base.Engine {}\n",
      "2021-04-14 22:52:14,493 INFO sqlalchemy.engine.base.Engine SELECT CAST('test plain returns' AS CHAR(60)) AS anon_1\n",
      "2021-04-14 22:52:14,494 INFO sqlalchemy.engine.base.Engine {}\n",
      "2021-04-14 22:52:14,618 INFO sqlalchemy.engine.base.Engine SELECT CAST('test unicode returns' AS CHAR(60)) AS anon_1\n",
      "2021-04-14 22:52:14,619 INFO sqlalchemy.engine.base.Engine {}\n",
      "2021-04-14 22:52:14,736 INFO sqlalchemy.engine.base.Engine SELECT CAST('test collated returns' AS CHAR CHARACTER SET utf8mb4) COLLATE utf8mb4_bin AS anon_1\n",
      "2021-04-14 22:52:14,737 INFO sqlalchemy.engine.base.Engine {}\n",
      "2021-04-14 22:52:15,196 INFO sqlalchemy.engine.base.OptionEngine \n",
      "SELECT id, number, updated_on, available_bikes, available_bike_stands\n",
      "FROM dbbikes_info\n",
      "WHERE updated_on is not null and updated_on >= '2021-03-24 19:25:16' and number != 507\n",
      "GROUP BY id, day(updated_on)\n",
      "ORDER by id desc, updated_on desc;\n",
      "\n",
      "2021-04-14 22:52:15,197 INFO sqlalchemy.engine.base.OptionEngine {}\n"
     ]
    }
   ],
   "source": [
    "bike_df = pd.read_sql_query(sql, engine)"
   ]
  },
  {
   "cell_type": "code",
   "execution_count": 5,
   "metadata": {},
   "outputs": [
    {
     "data": {
      "text/html": [
       "<div>\n",
       "<style scoped>\n",
       "    .dataframe tbody tr th:only-of-type {\n",
       "        vertical-align: middle;\n",
       "    }\n",
       "\n",
       "    .dataframe tbody tr th {\n",
       "        vertical-align: top;\n",
       "    }\n",
       "\n",
       "    .dataframe thead th {\n",
       "        text-align: right;\n",
       "    }\n",
       "</style>\n",
       "<table border=\"1\" class=\"dataframe\">\n",
       "  <thead>\n",
       "    <tr style=\"text-align: right;\">\n",
       "      <th></th>\n",
       "      <th>id</th>\n",
       "      <th>number</th>\n",
       "      <th>updated_on</th>\n",
       "      <th>available_bikes</th>\n",
       "      <th>available_bike_stands</th>\n",
       "    </tr>\n",
       "  </thead>\n",
       "  <tbody>\n",
       "    <tr>\n",
       "      <th>0</th>\n",
       "      <td>1267838</td>\n",
       "      <td>88</td>\n",
       "      <td>2021-04-11 16:55:56</td>\n",
       "      <td>22</td>\n",
       "      <td>8</td>\n",
       "    </tr>\n",
       "    <tr>\n",
       "      <th>1</th>\n",
       "      <td>1267837</td>\n",
       "      <td>21</td>\n",
       "      <td>2021-04-11 16:52:37</td>\n",
       "      <td>9</td>\n",
       "      <td>21</td>\n",
       "    </tr>\n",
       "    <tr>\n",
       "      <th>2</th>\n",
       "      <td>1267836</td>\n",
       "      <td>92</td>\n",
       "      <td>2021-04-11 16:58:58</td>\n",
       "      <td>6</td>\n",
       "      <td>34</td>\n",
       "    </tr>\n",
       "    <tr>\n",
       "      <th>3</th>\n",
       "      <td>1267835</td>\n",
       "      <td>83</td>\n",
       "      <td>2021-04-11 16:57:08</td>\n",
       "      <td>12</td>\n",
       "      <td>27</td>\n",
       "    </tr>\n",
       "    <tr>\n",
       "      <th>4</th>\n",
       "      <td>1267834</td>\n",
       "      <td>39</td>\n",
       "      <td>2021-04-11 16:52:23</td>\n",
       "      <td>3</td>\n",
       "      <td>17</td>\n",
       "    </tr>\n",
       "    <tr>\n",
       "      <th>...</th>\n",
       "      <td>...</td>\n",
       "      <td>...</td>\n",
       "      <td>...</td>\n",
       "      <td>...</td>\n",
       "      <td>...</td>\n",
       "    </tr>\n",
       "    <tr>\n",
       "      <th>552665</th>\n",
       "      <td>714514</td>\n",
       "      <td>52</td>\n",
       "      <td>2021-03-24 19:27:10</td>\n",
       "      <td>0</td>\n",
       "      <td>32</td>\n",
       "    </tr>\n",
       "    <tr>\n",
       "      <th>552666</th>\n",
       "      <td>714513</td>\n",
       "      <td>32</td>\n",
       "      <td>2021-03-24 19:28:35</td>\n",
       "      <td>10</td>\n",
       "      <td>20</td>\n",
       "    </tr>\n",
       "    <tr>\n",
       "      <th>552667</th>\n",
       "      <td>714511</td>\n",
       "      <td>6</td>\n",
       "      <td>2021-03-24 19:28:23</td>\n",
       "      <td>2</td>\n",
       "      <td>18</td>\n",
       "    </tr>\n",
       "    <tr>\n",
       "      <th>552668</th>\n",
       "      <td>714507</td>\n",
       "      <td>30</td>\n",
       "      <td>2021-03-24 19:29:17</td>\n",
       "      <td>7</td>\n",
       "      <td>13</td>\n",
       "    </tr>\n",
       "    <tr>\n",
       "      <th>552669</th>\n",
       "      <td>714506</td>\n",
       "      <td>42</td>\n",
       "      <td>2021-03-24 19:28:58</td>\n",
       "      <td>24</td>\n",
       "      <td>6</td>\n",
       "    </tr>\n",
       "  </tbody>\n",
       "</table>\n",
       "<p>552670 rows × 5 columns</p>\n",
       "</div>"
      ],
      "text/plain": [
       "             id  number          updated_on  available_bikes  \\\n",
       "0       1267838      88 2021-04-11 16:55:56               22   \n",
       "1       1267837      21 2021-04-11 16:52:37                9   \n",
       "2       1267836      92 2021-04-11 16:58:58                6   \n",
       "3       1267835      83 2021-04-11 16:57:08               12   \n",
       "4       1267834      39 2021-04-11 16:52:23                3   \n",
       "...         ...     ...                 ...              ...   \n",
       "552665   714514      52 2021-03-24 19:27:10                0   \n",
       "552666   714513      32 2021-03-24 19:28:35               10   \n",
       "552667   714511       6 2021-03-24 19:28:23                2   \n",
       "552668   714507      30 2021-03-24 19:29:17                7   \n",
       "552669   714506      42 2021-03-24 19:28:58               24   \n",
       "\n",
       "        available_bike_stands  \n",
       "0                           8  \n",
       "1                          21  \n",
       "2                          34  \n",
       "3                          27  \n",
       "4                          17  \n",
       "...                       ...  \n",
       "552665                     32  \n",
       "552666                     20  \n",
       "552667                     18  \n",
       "552668                     13  \n",
       "552669                      6  \n",
       "\n",
       "[552670 rows x 5 columns]"
      ]
     },
     "execution_count": 5,
     "metadata": {},
     "output_type": "execute_result"
    }
   ],
   "source": [
    "bike_df['updated_on'] = bike_df['updated_on'].astype('datetime64[ns]')\n",
    "bike_df['updated_on'] = pd.to_datetime(bike_df['updated_on'])\n",
    "bike_df"
   ]
  },
  {
   "cell_type": "code",
   "execution_count": 6,
   "metadata": {},
   "outputs": [
    {
     "data": {
      "text/plain": [
       "id                                int64\n",
       "number                            int64\n",
       "updated_on               datetime64[ns]\n",
       "available_bikes                   int64\n",
       "available_bike_stands             int64\n",
       "dtype: object"
      ]
     },
     "execution_count": 6,
     "metadata": {},
     "output_type": "execute_result"
    }
   ],
   "source": [
    "bike_df.dtypes"
   ]
  },
  {
   "cell_type": "code",
   "execution_count": 7,
   "metadata": {},
   "outputs": [
    {
     "data": {
      "text/plain": [
       "(552670, 5)"
      ]
     },
     "execution_count": 7,
     "metadata": {},
     "output_type": "execute_result"
    }
   ],
   "source": [
    "bike_df.shape"
   ]
  },
  {
   "cell_type": "code",
   "execution_count": 8,
   "metadata": {},
   "outputs": [
    {
     "data": {
      "text/html": [
       "<div>\n",
       "<style scoped>\n",
       "    .dataframe tbody tr th:only-of-type {\n",
       "        vertical-align: middle;\n",
       "    }\n",
       "\n",
       "    .dataframe tbody tr th {\n",
       "        vertical-align: top;\n",
       "    }\n",
       "\n",
       "    .dataframe thead th {\n",
       "        text-align: right;\n",
       "    }\n",
       "</style>\n",
       "<table border=\"1\" class=\"dataframe\">\n",
       "  <thead>\n",
       "    <tr style=\"text-align: right;\">\n",
       "      <th></th>\n",
       "      <th>id</th>\n",
       "      <th>number</th>\n",
       "      <th>updated_on</th>\n",
       "      <th>available_bikes</th>\n",
       "      <th>available_bike_stands</th>\n",
       "    </tr>\n",
       "  </thead>\n",
       "  <tbody>\n",
       "    <tr>\n",
       "      <th>552665</th>\n",
       "      <td>714514</td>\n",
       "      <td>52</td>\n",
       "      <td>2021-03-24 19:27:10</td>\n",
       "      <td>0</td>\n",
       "      <td>32</td>\n",
       "    </tr>\n",
       "    <tr>\n",
       "      <th>552666</th>\n",
       "      <td>714513</td>\n",
       "      <td>32</td>\n",
       "      <td>2021-03-24 19:28:35</td>\n",
       "      <td>10</td>\n",
       "      <td>20</td>\n",
       "    </tr>\n",
       "    <tr>\n",
       "      <th>552667</th>\n",
       "      <td>714511</td>\n",
       "      <td>6</td>\n",
       "      <td>2021-03-24 19:28:23</td>\n",
       "      <td>2</td>\n",
       "      <td>18</td>\n",
       "    </tr>\n",
       "    <tr>\n",
       "      <th>552668</th>\n",
       "      <td>714507</td>\n",
       "      <td>30</td>\n",
       "      <td>2021-03-24 19:29:17</td>\n",
       "      <td>7</td>\n",
       "      <td>13</td>\n",
       "    </tr>\n",
       "    <tr>\n",
       "      <th>552669</th>\n",
       "      <td>714506</td>\n",
       "      <td>42</td>\n",
       "      <td>2021-03-24 19:28:58</td>\n",
       "      <td>24</td>\n",
       "      <td>6</td>\n",
       "    </tr>\n",
       "  </tbody>\n",
       "</table>\n",
       "</div>"
      ],
      "text/plain": [
       "            id  number          updated_on  available_bikes  \\\n",
       "552665  714514      52 2021-03-24 19:27:10                0   \n",
       "552666  714513      32 2021-03-24 19:28:35               10   \n",
       "552667  714511       6 2021-03-24 19:28:23                2   \n",
       "552668  714507      30 2021-03-24 19:29:17                7   \n",
       "552669  714506      42 2021-03-24 19:28:58               24   \n",
       "\n",
       "        available_bike_stands  \n",
       "552665                     32  \n",
       "552666                     20  \n",
       "552667                     18  \n",
       "552668                     13  \n",
       "552669                      6  "
      ]
     },
     "execution_count": 8,
     "metadata": {},
     "output_type": "execute_result"
    }
   ],
   "source": [
    "bike_df.tail()"
   ]
  },
  {
   "cell_type": "code",
   "execution_count": 9,
   "metadata": {},
   "outputs": [],
   "source": [
    "sql = f\"\"\"\n",
    "SELECT * FROM weather;\n",
    "\"\"\""
   ]
  },
  {
   "cell_type": "code",
   "execution_count": 10,
   "metadata": {},
   "outputs": [
    {
     "name": "stdout",
     "output_type": "stream",
     "text": [
      "2021-04-14 22:52:27,916 INFO sqlalchemy.engine.base.OptionEngine \n",
      "SELECT * FROM weather;\n",
      "\n",
      "2021-04-14 22:52:27,918 INFO sqlalchemy.engine.base.OptionEngine {}\n"
     ]
    }
   ],
   "source": [
    "weather_df = pd.read_sql_query(sql, engine)"
   ]
  },
  {
   "cell_type": "code",
   "execution_count": 11,
   "metadata": {},
   "outputs": [
    {
     "data": {
      "text/plain": [
       "id                      int64\n",
       "description            object\n",
       "temp                  float64\n",
       "last_update    datetime64[ns]\n",
       "dtype: object"
      ]
     },
     "execution_count": 11,
     "metadata": {},
     "output_type": "execute_result"
    }
   ],
   "source": [
    "weather_df.dtypes"
   ]
  },
  {
   "cell_type": "code",
   "execution_count": 12,
   "metadata": {},
   "outputs": [],
   "source": [
    "# category    \n",
    "weather_df['description'] = weather_df['description'].astype('category')    \n",
    "\n",
    "# datetime   \n",
    "weather_df['last_update'] = weather_df['last_update'].astype('datetime64[ns]')"
   ]
  },
  {
   "cell_type": "code",
   "execution_count": 13,
   "metadata": {},
   "outputs": [
    {
     "data": {
      "text/plain": [
       "id                      int64\n",
       "description          category\n",
       "temp                  float64\n",
       "last_update    datetime64[ns]\n",
       "dtype: object"
      ]
     },
     "execution_count": 13,
     "metadata": {},
     "output_type": "execute_result"
    }
   ],
   "source": [
    "weather_df.dtypes"
   ]
  },
  {
   "cell_type": "code",
   "execution_count": 14,
   "metadata": {},
   "outputs": [
    {
     "data": {
      "text/plain": [
       "(5921, 4)"
      ]
     },
     "execution_count": 14,
     "metadata": {},
     "output_type": "execute_result"
    }
   ],
   "source": [
    "weather_df.shape"
   ]
  },
  {
   "cell_type": "code",
   "execution_count": 15,
   "metadata": {},
   "outputs": [
    {
     "data": {
      "text/html": [
       "<div>\n",
       "<style scoped>\n",
       "    .dataframe tbody tr th:only-of-type {\n",
       "        vertical-align: middle;\n",
       "    }\n",
       "\n",
       "    .dataframe tbody tr th {\n",
       "        vertical-align: top;\n",
       "    }\n",
       "\n",
       "    .dataframe thead th {\n",
       "        text-align: right;\n",
       "    }\n",
       "</style>\n",
       "<table border=\"1\" class=\"dataframe\">\n",
       "  <thead>\n",
       "    <tr style=\"text-align: right;\">\n",
       "      <th></th>\n",
       "      <th>id</th>\n",
       "      <th>description</th>\n",
       "      <th>temp</th>\n",
       "      <th>last_update</th>\n",
       "    </tr>\n",
       "  </thead>\n",
       "  <tbody>\n",
       "    <tr>\n",
       "      <th>5916</th>\n",
       "      <td>5917</td>\n",
       "      <td>few clouds</td>\n",
       "      <td>4.21</td>\n",
       "      <td>2021-04-14 21:23:36</td>\n",
       "    </tr>\n",
       "    <tr>\n",
       "      <th>5917</th>\n",
       "      <td>5918</td>\n",
       "      <td>few clouds</td>\n",
       "      <td>4.14</td>\n",
       "      <td>2021-04-14 21:30:47</td>\n",
       "    </tr>\n",
       "    <tr>\n",
       "      <th>5918</th>\n",
       "      <td>5919</td>\n",
       "      <td>few clouds</td>\n",
       "      <td>4.14</td>\n",
       "      <td>2021-04-14 21:30:47</td>\n",
       "    </tr>\n",
       "    <tr>\n",
       "      <th>5919</th>\n",
       "      <td>5920</td>\n",
       "      <td>few clouds</td>\n",
       "      <td>3.66</td>\n",
       "      <td>2021-04-14 21:45:02</td>\n",
       "    </tr>\n",
       "    <tr>\n",
       "      <th>5920</th>\n",
       "      <td>5921</td>\n",
       "      <td>few clouds</td>\n",
       "      <td>3.66</td>\n",
       "      <td>2021-04-14 21:46:48</td>\n",
       "    </tr>\n",
       "  </tbody>\n",
       "</table>\n",
       "</div>"
      ],
      "text/plain": [
       "        id description  temp         last_update\n",
       "5916  5917  few clouds  4.21 2021-04-14 21:23:36\n",
       "5917  5918  few clouds  4.14 2021-04-14 21:30:47\n",
       "5918  5919  few clouds  4.14 2021-04-14 21:30:47\n",
       "5919  5920  few clouds  3.66 2021-04-14 21:45:02\n",
       "5920  5921  few clouds  3.66 2021-04-14 21:46:48"
      ]
     },
     "execution_count": 15,
     "metadata": {},
     "output_type": "execute_result"
    }
   ],
   "source": [
    "weather_df.tail()"
   ]
  },
  {
   "cell_type": "code",
   "execution_count": 16,
   "metadata": {},
   "outputs": [],
   "source": [
    "bike_df.sort_values('updated_on', inplace=True)\n",
    "weather_df.sort_values('last_update', inplace=True) "
   ]
  },
  {
   "cell_type": "code",
   "execution_count": 17,
   "metadata": {},
   "outputs": [],
   "source": [
    "df = pd.merge_asof(bike_df, weather_df, left_on='updated_on', right_on='last_update')"
   ]
  },
  {
   "cell_type": "code",
   "execution_count": 18,
   "metadata": {},
   "outputs": [
    {
     "data": {
      "text/plain": [
       "(552670, 9)"
      ]
     },
     "execution_count": 18,
     "metadata": {},
     "output_type": "execute_result"
    }
   ],
   "source": [
    "df.shape"
   ]
  },
  {
   "cell_type": "code",
   "execution_count": 19,
   "metadata": {},
   "outputs": [],
   "source": [
    "df = df.drop(['last_update'], axis=1)"
   ]
  },
  {
   "cell_type": "code",
   "execution_count": 20,
   "metadata": {},
   "outputs": [
    {
     "data": {
      "text/html": [
       "<div>\n",
       "<style scoped>\n",
       "    .dataframe tbody tr th:only-of-type {\n",
       "        vertical-align: middle;\n",
       "    }\n",
       "\n",
       "    .dataframe tbody tr th {\n",
       "        vertical-align: top;\n",
       "    }\n",
       "\n",
       "    .dataframe thead th {\n",
       "        text-align: right;\n",
       "    }\n",
       "</style>\n",
       "<table border=\"1\" class=\"dataframe\">\n",
       "  <thead>\n",
       "    <tr style=\"text-align: right;\">\n",
       "      <th></th>\n",
       "      <th>id_x</th>\n",
       "      <th>number</th>\n",
       "      <th>updated_on</th>\n",
       "      <th>available_bikes</th>\n",
       "      <th>available_bike_stands</th>\n",
       "      <th>id_y</th>\n",
       "      <th>description</th>\n",
       "      <th>temp</th>\n",
       "    </tr>\n",
       "  </thead>\n",
       "  <tbody>\n",
       "    <tr>\n",
       "      <th>552665</th>\n",
       "      <td>1267774</td>\n",
       "      <td>7</td>\n",
       "      <td>2021-04-11 16:59:24</td>\n",
       "      <td>5</td>\n",
       "      <td>24</td>\n",
       "      <td>5000</td>\n",
       "      <td>moderate rain</td>\n",
       "      <td>7.0</td>\n",
       "    </tr>\n",
       "    <tr>\n",
       "      <th>552666</th>\n",
       "      <td>1267751</td>\n",
       "      <td>90</td>\n",
       "      <td>2021-04-11 16:59:29</td>\n",
       "      <td>16</td>\n",
       "      <td>23</td>\n",
       "      <td>5000</td>\n",
       "      <td>moderate rain</td>\n",
       "      <td>7.0</td>\n",
       "    </tr>\n",
       "    <tr>\n",
       "      <th>552667</th>\n",
       "      <td>1267803</td>\n",
       "      <td>22</td>\n",
       "      <td>2021-04-11 16:59:32</td>\n",
       "      <td>8</td>\n",
       "      <td>12</td>\n",
       "      <td>5000</td>\n",
       "      <td>moderate rain</td>\n",
       "      <td>7.0</td>\n",
       "    </tr>\n",
       "    <tr>\n",
       "      <th>552668</th>\n",
       "      <td>1267793</td>\n",
       "      <td>69</td>\n",
       "      <td>2021-04-11 16:59:36</td>\n",
       "      <td>16</td>\n",
       "      <td>23</td>\n",
       "      <td>5000</td>\n",
       "      <td>moderate rain</td>\n",
       "      <td>7.0</td>\n",
       "    </tr>\n",
       "    <tr>\n",
       "      <th>552669</th>\n",
       "      <td>1267831</td>\n",
       "      <td>29</td>\n",
       "      <td>2021-04-11 16:59:39</td>\n",
       "      <td>19</td>\n",
       "      <td>9</td>\n",
       "      <td>5000</td>\n",
       "      <td>moderate rain</td>\n",
       "      <td>7.0</td>\n",
       "    </tr>\n",
       "  </tbody>\n",
       "</table>\n",
       "</div>"
      ],
      "text/plain": [
       "           id_x  number          updated_on  available_bikes  \\\n",
       "552665  1267774       7 2021-04-11 16:59:24                5   \n",
       "552666  1267751      90 2021-04-11 16:59:29               16   \n",
       "552667  1267803      22 2021-04-11 16:59:32                8   \n",
       "552668  1267793      69 2021-04-11 16:59:36               16   \n",
       "552669  1267831      29 2021-04-11 16:59:39               19   \n",
       "\n",
       "        available_bike_stands  id_y    description  temp  \n",
       "552665                     24  5000  moderate rain   7.0  \n",
       "552666                     23  5000  moderate rain   7.0  \n",
       "552667                     12  5000  moderate rain   7.0  \n",
       "552668                     23  5000  moderate rain   7.0  \n",
       "552669                      9  5000  moderate rain   7.0  "
      ]
     },
     "execution_count": 20,
     "metadata": {},
     "output_type": "execute_result"
    }
   ],
   "source": [
    "df.tail(5)"
   ]
  },
  {
   "cell_type": "code",
   "execution_count": 21,
   "metadata": {},
   "outputs": [],
   "source": [
    "df = df.drop(['id_y'], axis=1)"
   ]
  },
  {
   "cell_type": "code",
   "execution_count": 22,
   "metadata": {},
   "outputs": [],
   "source": [
    "df = df.drop(['id_x'], axis=1)"
   ]
  },
  {
   "cell_type": "code",
   "execution_count": 23,
   "metadata": {},
   "outputs": [
    {
     "data": {
      "text/html": [
       "<div>\n",
       "<style scoped>\n",
       "    .dataframe tbody tr th:only-of-type {\n",
       "        vertical-align: middle;\n",
       "    }\n",
       "\n",
       "    .dataframe tbody tr th {\n",
       "        vertical-align: top;\n",
       "    }\n",
       "\n",
       "    .dataframe thead th {\n",
       "        text-align: right;\n",
       "    }\n",
       "</style>\n",
       "<table border=\"1\" class=\"dataframe\">\n",
       "  <thead>\n",
       "    <tr style=\"text-align: right;\">\n",
       "      <th></th>\n",
       "      <th>number</th>\n",
       "      <th>updated_on</th>\n",
       "      <th>available_bikes</th>\n",
       "      <th>available_bike_stands</th>\n",
       "      <th>description</th>\n",
       "      <th>temp</th>\n",
       "    </tr>\n",
       "  </thead>\n",
       "  <tbody>\n",
       "    <tr>\n",
       "      <th>552665</th>\n",
       "      <td>7</td>\n",
       "      <td>2021-04-11 16:59:24</td>\n",
       "      <td>5</td>\n",
       "      <td>24</td>\n",
       "      <td>moderate rain</td>\n",
       "      <td>7.0</td>\n",
       "    </tr>\n",
       "    <tr>\n",
       "      <th>552666</th>\n",
       "      <td>90</td>\n",
       "      <td>2021-04-11 16:59:29</td>\n",
       "      <td>16</td>\n",
       "      <td>23</td>\n",
       "      <td>moderate rain</td>\n",
       "      <td>7.0</td>\n",
       "    </tr>\n",
       "    <tr>\n",
       "      <th>552667</th>\n",
       "      <td>22</td>\n",
       "      <td>2021-04-11 16:59:32</td>\n",
       "      <td>8</td>\n",
       "      <td>12</td>\n",
       "      <td>moderate rain</td>\n",
       "      <td>7.0</td>\n",
       "    </tr>\n",
       "    <tr>\n",
       "      <th>552668</th>\n",
       "      <td>69</td>\n",
       "      <td>2021-04-11 16:59:36</td>\n",
       "      <td>16</td>\n",
       "      <td>23</td>\n",
       "      <td>moderate rain</td>\n",
       "      <td>7.0</td>\n",
       "    </tr>\n",
       "    <tr>\n",
       "      <th>552669</th>\n",
       "      <td>29</td>\n",
       "      <td>2021-04-11 16:59:39</td>\n",
       "      <td>19</td>\n",
       "      <td>9</td>\n",
       "      <td>moderate rain</td>\n",
       "      <td>7.0</td>\n",
       "    </tr>\n",
       "  </tbody>\n",
       "</table>\n",
       "</div>"
      ],
      "text/plain": [
       "        number          updated_on  available_bikes  available_bike_stands  \\\n",
       "552665       7 2021-04-11 16:59:24                5                     24   \n",
       "552666      90 2021-04-11 16:59:29               16                     23   \n",
       "552667      22 2021-04-11 16:59:32                8                     12   \n",
       "552668      69 2021-04-11 16:59:36               16                     23   \n",
       "552669      29 2021-04-11 16:59:39               19                      9   \n",
       "\n",
       "          description  temp  \n",
       "552665  moderate rain   7.0  \n",
       "552666  moderate rain   7.0  \n",
       "552667  moderate rain   7.0  \n",
       "552668  moderate rain   7.0  \n",
       "552669  moderate rain   7.0  "
      ]
     },
     "execution_count": 23,
     "metadata": {},
     "output_type": "execute_result"
    }
   ],
   "source": [
    "df.tail(5)"
   ]
  },
  {
   "cell_type": "code",
   "execution_count": 24,
   "metadata": {},
   "outputs": [
    {
     "data": {
      "text/plain": [
       "(552670, 6)"
      ]
     },
     "execution_count": 24,
     "metadata": {},
     "output_type": "execute_result"
    }
   ],
   "source": [
    "df.shape"
   ]
  },
  {
   "cell_type": "code",
   "execution_count": 25,
   "metadata": {},
   "outputs": [
    {
     "name": "stdout",
     "output_type": "stream",
     "text": [
      "Number of duplicate (excluding first) rows in the table is:  252528\n",
      "Number of duplicate rows (including first) in the table is: 496898\n"
     ]
    }
   ],
   "source": [
    "print('Number of duplicate (excluding first) rows in the table is: ', df.duplicated().sum())\n",
    "print('Number of duplicate rows (including first) in the table is:', df[df.duplicated(keep=False)].shape[0])"
   ]
  },
  {
   "cell_type": "code",
   "execution_count": 26,
   "metadata": {},
   "outputs": [
    {
     "name": "stdout",
     "output_type": "stream",
     "text": [
      "Duplicate remaining rows: 0\n"
     ]
    }
   ],
   "source": [
    "df = df.drop_duplicates(keep='last')\n",
    "print('Duplicate remaining rows:', df[df.duplicated(keep='last')].shape[0])"
   ]
  },
  {
   "cell_type": "code",
   "execution_count": 27,
   "metadata": {},
   "outputs": [
    {
     "data": {
      "text/plain": [
       "(300142, 6)"
      ]
     },
     "execution_count": 27,
     "metadata": {},
     "output_type": "execute_result"
    }
   ],
   "source": [
    "df.shape"
   ]
  },
  {
   "cell_type": "code",
   "execution_count": 28,
   "metadata": {},
   "outputs": [
    {
     "data": {
      "text/html": [
       "<div>\n",
       "<style scoped>\n",
       "    .dataframe tbody tr th:only-of-type {\n",
       "        vertical-align: middle;\n",
       "    }\n",
       "\n",
       "    .dataframe tbody tr th {\n",
       "        vertical-align: top;\n",
       "    }\n",
       "\n",
       "    .dataframe thead th {\n",
       "        text-align: right;\n",
       "    }\n",
       "</style>\n",
       "<table border=\"1\" class=\"dataframe\">\n",
       "  <thead>\n",
       "    <tr style=\"text-align: right;\">\n",
       "      <th></th>\n",
       "      <th>number</th>\n",
       "      <th>updated_on</th>\n",
       "      <th>available_bikes</th>\n",
       "      <th>available_bike_stands</th>\n",
       "      <th>description</th>\n",
       "      <th>temp</th>\n",
       "    </tr>\n",
       "  </thead>\n",
       "  <tbody>\n",
       "    <tr>\n",
       "      <th>1</th>\n",
       "      <td>28</td>\n",
       "      <td>2021-03-24 19:25:34</td>\n",
       "      <td>3</td>\n",
       "      <td>27</td>\n",
       "      <td>clear sky</td>\n",
       "      <td>7.01</td>\n",
       "    </tr>\n",
       "    <tr>\n",
       "      <th>3</th>\n",
       "      <td>29</td>\n",
       "      <td>2021-03-24 19:25:40</td>\n",
       "      <td>1</td>\n",
       "      <td>28</td>\n",
       "      <td>clear sky</td>\n",
       "      <td>7.01</td>\n",
       "    </tr>\n",
       "    <tr>\n",
       "      <th>5</th>\n",
       "      <td>96</td>\n",
       "      <td>2021-03-24 19:25:43</td>\n",
       "      <td>15</td>\n",
       "      <td>15</td>\n",
       "      <td>clear sky</td>\n",
       "      <td>7.01</td>\n",
       "    </tr>\n",
       "    <tr>\n",
       "      <th>6</th>\n",
       "      <td>34</td>\n",
       "      <td>2021-03-24 19:25:45</td>\n",
       "      <td>12</td>\n",
       "      <td>17</td>\n",
       "      <td>clear sky</td>\n",
       "      <td>7.01</td>\n",
       "    </tr>\n",
       "    <tr>\n",
       "      <th>8</th>\n",
       "      <td>38</td>\n",
       "      <td>2021-03-24 19:26:04</td>\n",
       "      <td>16</td>\n",
       "      <td>24</td>\n",
       "      <td>clear sky</td>\n",
       "      <td>7.01</td>\n",
       "    </tr>\n",
       "    <tr>\n",
       "      <th>...</th>\n",
       "      <td>...</td>\n",
       "      <td>...</td>\n",
       "      <td>...</td>\n",
       "      <td>...</td>\n",
       "      <td>...</td>\n",
       "      <td>...</td>\n",
       "    </tr>\n",
       "    <tr>\n",
       "      <th>552665</th>\n",
       "      <td>7</td>\n",
       "      <td>2021-04-11 16:59:24</td>\n",
       "      <td>5</td>\n",
       "      <td>24</td>\n",
       "      <td>moderate rain</td>\n",
       "      <td>7.00</td>\n",
       "    </tr>\n",
       "    <tr>\n",
       "      <th>552666</th>\n",
       "      <td>90</td>\n",
       "      <td>2021-04-11 16:59:29</td>\n",
       "      <td>16</td>\n",
       "      <td>23</td>\n",
       "      <td>moderate rain</td>\n",
       "      <td>7.00</td>\n",
       "    </tr>\n",
       "    <tr>\n",
       "      <th>552667</th>\n",
       "      <td>22</td>\n",
       "      <td>2021-04-11 16:59:32</td>\n",
       "      <td>8</td>\n",
       "      <td>12</td>\n",
       "      <td>moderate rain</td>\n",
       "      <td>7.00</td>\n",
       "    </tr>\n",
       "    <tr>\n",
       "      <th>552668</th>\n",
       "      <td>69</td>\n",
       "      <td>2021-04-11 16:59:36</td>\n",
       "      <td>16</td>\n",
       "      <td>23</td>\n",
       "      <td>moderate rain</td>\n",
       "      <td>7.00</td>\n",
       "    </tr>\n",
       "    <tr>\n",
       "      <th>552669</th>\n",
       "      <td>29</td>\n",
       "      <td>2021-04-11 16:59:39</td>\n",
       "      <td>19</td>\n",
       "      <td>9</td>\n",
       "      <td>moderate rain</td>\n",
       "      <td>7.00</td>\n",
       "    </tr>\n",
       "  </tbody>\n",
       "</table>\n",
       "<p>300142 rows × 6 columns</p>\n",
       "</div>"
      ],
      "text/plain": [
       "        number          updated_on  available_bikes  available_bike_stands  \\\n",
       "1           28 2021-03-24 19:25:34                3                     27   \n",
       "3           29 2021-03-24 19:25:40                1                     28   \n",
       "5           96 2021-03-24 19:25:43               15                     15   \n",
       "6           34 2021-03-24 19:25:45               12                     17   \n",
       "8           38 2021-03-24 19:26:04               16                     24   \n",
       "...        ...                 ...              ...                    ...   \n",
       "552665       7 2021-04-11 16:59:24                5                     24   \n",
       "552666      90 2021-04-11 16:59:29               16                     23   \n",
       "552667      22 2021-04-11 16:59:32                8                     12   \n",
       "552668      69 2021-04-11 16:59:36               16                     23   \n",
       "552669      29 2021-04-11 16:59:39               19                      9   \n",
       "\n",
       "          description  temp  \n",
       "1           clear sky  7.01  \n",
       "3           clear sky  7.01  \n",
       "5           clear sky  7.01  \n",
       "6           clear sky  7.01  \n",
       "8           clear sky  7.01  \n",
       "...               ...   ...  \n",
       "552665  moderate rain  7.00  \n",
       "552666  moderate rain  7.00  \n",
       "552667  moderate rain  7.00  \n",
       "552668  moderate rain  7.00  \n",
       "552669  moderate rain  7.00  \n",
       "\n",
       "[300142 rows x 6 columns]"
      ]
     },
     "execution_count": 28,
     "metadata": {},
     "output_type": "execute_result"
    }
   ],
   "source": [
    "df"
   ]
  },
  {
   "cell_type": "code",
   "execution_count": 29,
   "metadata": {},
   "outputs": [
    {
     "data": {
      "text/plain": [
       "(300142, 6)"
      ]
     },
     "execution_count": 29,
     "metadata": {},
     "output_type": "execute_result"
    }
   ],
   "source": [
    "df.shape"
   ]
  },
  {
   "cell_type": "code",
   "execution_count": 30,
   "metadata": {},
   "outputs": [],
   "source": [
    "df['hourly'] = df['updated_on'].dt.hour\n",
    "hourly_dummies = pd.get_dummies(df['hourly'], prefix='hour')\n",
    "df = pd.concat([df, hourly_dummies], axis=1)\n",
    "hour_dummies = list(hourly_dummies)\n",
    "df = df.drop(['hourly'], axis=1)\n",
    "\n",
    "df['weekday'] = df['updated_on'].dt.dayofweek"
   ]
  },
  {
   "cell_type": "code",
   "execution_count": 31,
   "metadata": {},
   "outputs": [
    {
     "name": "stdout",
     "output_type": "stream",
     "text": [
      "    number          updated_on  available_bikes  available_bike_stands  \\\n",
      "1       28 2021-03-24 19:25:34                3                     27   \n",
      "3       29 2021-03-24 19:25:40                1                     28   \n",
      "5       96 2021-03-24 19:25:43               15                     15   \n",
      "6       34 2021-03-24 19:25:45               12                     17   \n",
      "8       38 2021-03-24 19:26:04               16                     24   \n",
      "10     115 2021-03-24 19:26:14               20                     10   \n",
      "12     105 2021-03-24 19:26:16                5                     31   \n",
      "14      26 2021-03-24 19:26:16                5                     15   \n",
      "16      84 2021-03-24 19:26:19                4                     26   \n",
      "19       2 2021-03-24 19:26:23                3                     17   \n",
      "\n",
      "   description  temp  hour_0  hour_1  hour_2  hour_3  ...  hour_15  hour_16  \\\n",
      "1    clear sky  7.01       0       0       0       0  ...        0        0   \n",
      "3    clear sky  7.01       0       0       0       0  ...        0        0   \n",
      "5    clear sky  7.01       0       0       0       0  ...        0        0   \n",
      "6    clear sky  7.01       0       0       0       0  ...        0        0   \n",
      "8    clear sky  7.01       0       0       0       0  ...        0        0   \n",
      "10   clear sky  7.01       0       0       0       0  ...        0        0   \n",
      "12   clear sky  7.01       0       0       0       0  ...        0        0   \n",
      "14   clear sky  7.01       0       0       0       0  ...        0        0   \n",
      "16   clear sky  7.01       0       0       0       0  ...        0        0   \n",
      "19   clear sky  7.01       0       0       0       0  ...        0        0   \n",
      "\n",
      "    hour_17  hour_18  hour_19  hour_20  hour_21  hour_22  hour_23  weekday  \n",
      "1         0        0        1        0        0        0        0        2  \n",
      "3         0        0        1        0        0        0        0        2  \n",
      "5         0        0        1        0        0        0        0        2  \n",
      "6         0        0        1        0        0        0        0        2  \n",
      "8         0        0        1        0        0        0        0        2  \n",
      "10        0        0        1        0        0        0        0        2  \n",
      "12        0        0        1        0        0        0        0        2  \n",
      "14        0        0        1        0        0        0        0        2  \n",
      "16        0        0        1        0        0        0        0        2  \n",
      "19        0        0        1        0        0        0        0        2  \n",
      "\n",
      "[10 rows x 31 columns]\n",
      "Index(['number', 'updated_on', 'available_bikes', 'available_bike_stands',\n",
      "       'description', 'temp', 'hour_0', 'hour_1', 'hour_2', 'hour_3', 'hour_4',\n",
      "       'hour_5', 'hour_6', 'hour_7', 'hour_8', 'hour_9', 'hour_10', 'hour_11',\n",
      "       'hour_12', 'hour_13', 'hour_14', 'hour_15', 'hour_16', 'hour_17',\n",
      "       'hour_18', 'hour_19', 'hour_20', 'hour_21', 'hour_22', 'hour_23',\n",
      "       'weekday'],\n",
      "      dtype='object')\n"
     ]
    }
   ],
   "source": [
    "print(df.head(10))\n",
    "print(df.keys())"
   ]
  },
  {
   "cell_type": "code",
   "execution_count": 32,
   "metadata": {},
   "outputs": [
    {
     "name": "stdout",
     "output_type": "stream",
     "text": [
      "Percentage of models that have outperformed r2 = 0.5: 44.95412844036697\n"
     ]
    }
   ],
   "source": [
    "stations = list(sorted(df.number.unique()))\n",
    "weekdays = list(sorted(df.weekday.unique()))\n",
    "models = {}\n",
    "\n",
    "i = 0\n",
    "\n",
    "for station in stations:\n",
    "    models[station] = {}\n",
    "    for weekday in weekdays:\n",
    "        df1 = df[(df['number'] == station) & (df['weekday'] == weekday)]\n",
    "        y = pd.DataFrame(df1, columns=['available_bikes', 'temp'])\n",
    "        X = pd.DataFrame(df1, columns=['hour_0', 'hour_1', 'hour_2', 'hour_3', 'hour_4',\n",
    "       'hour_5', 'hour_6', 'hour_7', 'hour_8', 'hour_9', 'hour_10', 'hour_11',\n",
    "       'hour_12', 'hour_13', 'hour_14', 'hour_15', 'hour_16', 'hour_17',\n",
    "       'hour_18', 'hour_19', 'hour_20', 'hour_21', 'hour_22', 'hour_23'])\n",
    "\n",
    "        X_train, X_test, y_train, y_test = train_test_split(X, y, test_size=0.3)\n",
    "        models[station][weekday] = LinearRegression().fit(X_train, y_train)\n",
    "        model = LinearRegression().fit(X_train, y_train)\n",
    "        \n",
    "        train_predictions = model.predict(X_train)\n",
    "        # print('Train predictions for station ', station, \": \", train_predictions)\n",
    "\n",
    "        test_predictions = model.predict(X_test)\n",
    "        # print('Test predictions for station ', station, \": \", test_predictions)\n",
    "\n",
    "        \n",
    "        r2 = metrics.r2_score(y_test, test_predictions)\n",
    "\n",
    "        # how well does the model behave compared to a chosen r2 ? \n",
    "        if r2 > 0.5:             \n",
    "            i +=1\n",
    "\n",
    "print('Percentage of models that have outperformed r2 = 0.5:', (i /109) * 100)  # there are 109 stations\n",
    "# print(i)\n",
    "# print(len(stations))\n",
    "\n",
    "# with open('model.pkl', 'wb') as handle:\n",
    "#     pickle.dump(models, handle, protocol = pickle.HIGHEST_PROTOCOL)"
   ]
  },
  {
   "cell_type": "code",
   "execution_count": null,
   "metadata": {},
   "outputs": [],
   "source": []
  }
 ],
 "metadata": {
  "kernelspec": {
   "display_name": "Python 3",
   "language": "python",
   "name": "python3"
  },
  "language_info": {
   "codemirror_mode": {
    "name": "ipython",
    "version": 3
   },
   "file_extension": ".py",
   "mimetype": "text/x-python",
   "name": "python",
   "nbconvert_exporter": "python",
   "pygments_lexer": "ipython3",
   "version": "3.9.1"
  }
 },
 "nbformat": 4,
 "nbformat_minor": 4
}