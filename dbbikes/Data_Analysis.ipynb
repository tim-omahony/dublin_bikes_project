{
 "cells": [
  {
   "cell_type": "markdown",
   "metadata": {},
   "source": [
    "# Data analysis  "
   ]
  },
  {
   "cell_type": "code",
   "execution_count": 6,
   "metadata": {},
   "outputs": [],
   "source": [
    "## Imports\n",
    "import pandas as pd\n",
    "import matplotlib.pyplot as plt\n",
    "%matplotlib inline\n",
    "import numpy as np\n",
    "import matplotlib.patches as mpatches\n",
    "import seaborn as sns\n",
    "# hide ipykernel warnings \n",
    "import warnings\n",
    "warnings.filterwarnings('ignore')"
   ]
  },
  {
   "cell_type": "code",
   "execution_count": 7,
   "metadata": {},
   "outputs": [],
   "source": [
    "from sqlalchemy import create_engine\n",
    "USER = \"tim\"\n",
    "PASSWORD = \"Ylu3shin123!!\"\n",
    "URI = \"dbbikes.cjlp5umzs5hs.us-east-1.rds.amazonaws.com\"\n",
    "PORT = \"3306\"\n",
    "DB = \"dbbikes\"\n",
    "engine = create_engine(\"mysql+pymysql://{}:{}@{}:{}/{}\".format(USER, PASSWORD, URI, PORT, DB), echo=True)"
   ]
  },
  {
   "cell_type": "markdown",
   "metadata": {},
   "source": [
    "### Bike Availability"
   ]
  },
  {
   "cell_type": "code",
   "execution_count": 8,
   "metadata": {},
   "outputs": [],
   "source": [
    "sql = f\"\"\"\n",
    "SELECT id, number, last_update, available_bikes, available_bike_stands FROM stations\n",
    "GROUP BY id, day(last_update)\n",
    "ORDER by id, last_update ASC;\n",
    "\"\"\""
   ]
  },
  {
   "cell_type": "code",
   "execution_count": 9,
   "metadata": {},
   "outputs": [
    {
     "name": "stdout",
     "output_type": "stream",
     "text": [
      "2021-04-13 16:41:16,190 INFO sqlalchemy.engine.base.Engine SHOW VARIABLES LIKE 'sql_mode'\n",
      "2021-04-13 16:41:16,196 INFO sqlalchemy.engine.base.Engine {}\n",
      "2021-04-13 16:41:16,314 INFO sqlalchemy.engine.base.Engine SHOW VARIABLES LIKE 'lower_case_table_names'\n",
      "2021-04-13 16:41:16,314 INFO sqlalchemy.engine.base.Engine {}\n",
      "2021-04-13 16:41:16,702 INFO sqlalchemy.engine.base.Engine SELECT DATABASE()\n",
      "2021-04-13 16:41:16,703 INFO sqlalchemy.engine.base.Engine {}\n",
      "2021-04-13 16:41:17,006 INFO sqlalchemy.engine.base.Engine show collation where `Charset` = 'utf8mb4' and `Collation` = 'utf8mb4_bin'\n",
      "2021-04-13 16:41:17,007 INFO sqlalchemy.engine.base.Engine {}\n",
      "2021-04-13 16:41:17,133 INFO sqlalchemy.engine.base.Engine SELECT CAST('test plain returns' AS CHAR(60)) AS anon_1\n",
      "2021-04-13 16:41:17,135 INFO sqlalchemy.engine.base.Engine {}\n",
      "2021-04-13 16:41:17,313 INFO sqlalchemy.engine.base.Engine SELECT CAST('test unicode returns' AS CHAR(60)) AS anon_1\n",
      "2021-04-13 16:41:17,314 INFO sqlalchemy.engine.base.Engine {}\n",
      "2021-04-13 16:41:17,433 INFO sqlalchemy.engine.base.Engine SELECT CAST('test collated returns' AS CHAR CHARACTER SET utf8mb4) COLLATE utf8mb4_bin AS anon_1\n",
      "2021-04-13 16:41:17,435 INFO sqlalchemy.engine.base.Engine {}\n",
      "2021-04-13 16:41:17,928 INFO sqlalchemy.engine.base.OptionEngine \n",
      "SELECT id, number, last_update, available_bikes, available_bike_stands FROM stations\n",
      "GROUP BY id, day(last_update)\n",
      "ORDER by id, last_update ASC;\n",
      "\n",
      "2021-04-13 16:41:17,929 INFO sqlalchemy.engine.base.OptionEngine {}\n"
     ]
    }
   ],
   "source": [
    "bike_df = pd.read_sql_query(sql, engine)"
   ]
  },
  {
   "cell_type": "markdown",
   "metadata": {},
   "source": [
    "#### Converting datatypes"
   ]
  },
  {
   "cell_type": "code",
   "execution_count": 10,
   "metadata": {},
   "outputs": [
    {
     "data": {
      "text/html": [
       "<div>\n",
       "<style scoped>\n",
       "    .dataframe tbody tr th:only-of-type {\n",
       "        vertical-align: middle;\n",
       "    }\n",
       "\n",
       "    .dataframe tbody tr th {\n",
       "        vertical-align: top;\n",
       "    }\n",
       "\n",
       "    .dataframe thead th {\n",
       "        text-align: right;\n",
       "    }\n",
       "</style>\n",
       "<table border=\"1\" class=\"dataframe\">\n",
       "  <thead>\n",
       "    <tr style=\"text-align: right;\">\n",
       "      <th></th>\n",
       "      <th>id</th>\n",
       "      <th>number</th>\n",
       "      <th>last_update</th>\n",
       "      <th>available_bikes</th>\n",
       "      <th>available_bike_stands</th>\n",
       "    </tr>\n",
       "  </thead>\n",
       "  <tbody>\n",
       "    <tr>\n",
       "      <th>0</th>\n",
       "      <td>1</td>\n",
       "      <td>42</td>\n",
       "      <td>2021-03-16 19:32:50</td>\n",
       "      <td>23</td>\n",
       "      <td>7</td>\n",
       "    </tr>\n",
       "    <tr>\n",
       "      <th>1</th>\n",
       "      <td>2</td>\n",
       "      <td>30</td>\n",
       "      <td>2021-03-16 19:26:54</td>\n",
       "      <td>4</td>\n",
       "      <td>16</td>\n",
       "    </tr>\n",
       "    <tr>\n",
       "      <th>2</th>\n",
       "      <td>3</td>\n",
       "      <td>54</td>\n",
       "      <td>2021-03-16 19:28:27</td>\n",
       "      <td>3</td>\n",
       "      <td>30</td>\n",
       "    </tr>\n",
       "    <tr>\n",
       "      <th>3</th>\n",
       "      <td>4</td>\n",
       "      <td>108</td>\n",
       "      <td>2021-03-16 19:29:25</td>\n",
       "      <td>23</td>\n",
       "      <td>17</td>\n",
       "    </tr>\n",
       "    <tr>\n",
       "      <th>4</th>\n",
       "      <td>5</td>\n",
       "      <td>56</td>\n",
       "      <td>2021-03-16 19:34:39</td>\n",
       "      <td>6</td>\n",
       "      <td>34</td>\n",
       "    </tr>\n",
       "    <tr>\n",
       "      <th>...</th>\n",
       "      <td>...</td>\n",
       "      <td>...</td>\n",
       "      <td>...</td>\n",
       "      <td>...</td>\n",
       "      <td>...</td>\n",
       "    </tr>\n",
       "    <tr>\n",
       "      <th>816244</th>\n",
       "      <td>816245</td>\n",
       "      <td>39</td>\n",
       "      <td>2021-04-13 15:38:52</td>\n",
       "      <td>3</td>\n",
       "      <td>17</td>\n",
       "    </tr>\n",
       "    <tr>\n",
       "      <th>816245</th>\n",
       "      <td>816246</td>\n",
       "      <td>83</td>\n",
       "      <td>2021-04-13 15:38:17</td>\n",
       "      <td>19</td>\n",
       "      <td>20</td>\n",
       "    </tr>\n",
       "    <tr>\n",
       "      <th>816246</th>\n",
       "      <td>816247</td>\n",
       "      <td>92</td>\n",
       "      <td>2021-04-13 15:36:42</td>\n",
       "      <td>12</td>\n",
       "      <td>28</td>\n",
       "    </tr>\n",
       "    <tr>\n",
       "      <th>816247</th>\n",
       "      <td>816248</td>\n",
       "      <td>21</td>\n",
       "      <td>2021-04-13 15:35:57</td>\n",
       "      <td>11</td>\n",
       "      <td>19</td>\n",
       "    </tr>\n",
       "    <tr>\n",
       "      <th>816248</th>\n",
       "      <td>816249</td>\n",
       "      <td>88</td>\n",
       "      <td>2021-04-13 15:37:03</td>\n",
       "      <td>20</td>\n",
       "      <td>10</td>\n",
       "    </tr>\n",
       "  </tbody>\n",
       "</table>\n",
       "<p>816249 rows × 5 columns</p>\n",
       "</div>"
      ],
      "text/plain": [
       "            id  number         last_update  available_bikes  \\\n",
       "0            1      42 2021-03-16 19:32:50               23   \n",
       "1            2      30 2021-03-16 19:26:54                4   \n",
       "2            3      54 2021-03-16 19:28:27                3   \n",
       "3            4     108 2021-03-16 19:29:25               23   \n",
       "4            5      56 2021-03-16 19:34:39                6   \n",
       "...        ...     ...                 ...              ...   \n",
       "816244  816245      39 2021-04-13 15:38:52                3   \n",
       "816245  816246      83 2021-04-13 15:38:17               19   \n",
       "816246  816247      92 2021-04-13 15:36:42               12   \n",
       "816247  816248      21 2021-04-13 15:35:57               11   \n",
       "816248  816249      88 2021-04-13 15:37:03               20   \n",
       "\n",
       "        available_bike_stands  \n",
       "0                           7  \n",
       "1                          16  \n",
       "2                          30  \n",
       "3                          17  \n",
       "4                          34  \n",
       "...                       ...  \n",
       "816244                     17  \n",
       "816245                     20  \n",
       "816246                     28  \n",
       "816247                     19  \n",
       "816248                     10  \n",
       "\n",
       "[816249 rows x 5 columns]"
      ]
     },
     "execution_count": 10,
     "metadata": {},
     "output_type": "execute_result"
    }
   ],
   "source": [
    "bike_df['last_update'] = bike_df['last_update'].astype('datetime64[ns]')\n",
    "\n",
    "#from datetime import datetime\n",
    "bike_df['last_update'] = pd.to_datetime(bike_df['last_update'])\n",
    "\n",
    "#bike_df.last_update = datetime.utcfromtimestamp(bike_df.last_update).strftime('%Y-%m-%d %H:%M:%S')\n",
    "bike_df  "
   ]
  },
  {
   "cell_type": "code",
   "execution_count": 11,
   "metadata": {},
   "outputs": [
    {
     "data": {
      "text/plain": [
       "id                                int64\n",
       "number                            int64\n",
       "last_update              datetime64[ns]\n",
       "available_bikes                   int64\n",
       "available_bike_stands             int64\n",
       "dtype: object"
      ]
     },
     "execution_count": 11,
     "metadata": {},
     "output_type": "execute_result"
    }
   ],
   "source": [
    "bike_df.dtypes"
   ]
  },
  {
   "cell_type": "code",
   "execution_count": 12,
   "metadata": {},
   "outputs": [
    {
     "data": {
      "text/plain": [
       "(816249, 5)"
      ]
     },
     "execution_count": 12,
     "metadata": {},
     "output_type": "execute_result"
    }
   ],
   "source": [
    "bike_df.shape"
   ]
  },
  {
   "cell_type": "code",
   "execution_count": 13,
   "metadata": {},
   "outputs": [
    {
     "data": {
      "text/html": [
       "<div>\n",
       "<style scoped>\n",
       "    .dataframe tbody tr th:only-of-type {\n",
       "        vertical-align: middle;\n",
       "    }\n",
       "\n",
       "    .dataframe tbody tr th {\n",
       "        vertical-align: top;\n",
       "    }\n",
       "\n",
       "    .dataframe thead th {\n",
       "        text-align: right;\n",
       "    }\n",
       "</style>\n",
       "<table border=\"1\" class=\"dataframe\">\n",
       "  <thead>\n",
       "    <tr style=\"text-align: right;\">\n",
       "      <th></th>\n",
       "      <th>id</th>\n",
       "      <th>number</th>\n",
       "      <th>last_update</th>\n",
       "      <th>available_bikes</th>\n",
       "      <th>available_bike_stands</th>\n",
       "    </tr>\n",
       "  </thead>\n",
       "  <tbody>\n",
       "    <tr>\n",
       "      <th>816244</th>\n",
       "      <td>816245</td>\n",
       "      <td>39</td>\n",
       "      <td>2021-04-13 15:38:52</td>\n",
       "      <td>3</td>\n",
       "      <td>17</td>\n",
       "    </tr>\n",
       "    <tr>\n",
       "      <th>816245</th>\n",
       "      <td>816246</td>\n",
       "      <td>83</td>\n",
       "      <td>2021-04-13 15:38:17</td>\n",
       "      <td>19</td>\n",
       "      <td>20</td>\n",
       "    </tr>\n",
       "    <tr>\n",
       "      <th>816246</th>\n",
       "      <td>816247</td>\n",
       "      <td>92</td>\n",
       "      <td>2021-04-13 15:36:42</td>\n",
       "      <td>12</td>\n",
       "      <td>28</td>\n",
       "    </tr>\n",
       "    <tr>\n",
       "      <th>816247</th>\n",
       "      <td>816248</td>\n",
       "      <td>21</td>\n",
       "      <td>2021-04-13 15:35:57</td>\n",
       "      <td>11</td>\n",
       "      <td>19</td>\n",
       "    </tr>\n",
       "    <tr>\n",
       "      <th>816248</th>\n",
       "      <td>816249</td>\n",
       "      <td>88</td>\n",
       "      <td>2021-04-13 15:37:03</td>\n",
       "      <td>20</td>\n",
       "      <td>10</td>\n",
       "    </tr>\n",
       "  </tbody>\n",
       "</table>\n",
       "</div>"
      ],
      "text/plain": [
       "            id  number         last_update  available_bikes  \\\n",
       "816244  816245      39 2021-04-13 15:38:52                3   \n",
       "816245  816246      83 2021-04-13 15:38:17               19   \n",
       "816246  816247      92 2021-04-13 15:36:42               12   \n",
       "816247  816248      21 2021-04-13 15:35:57               11   \n",
       "816248  816249      88 2021-04-13 15:37:03               20   \n",
       "\n",
       "        available_bike_stands  \n",
       "816244                     17  \n",
       "816245                     20  \n",
       "816246                     28  \n",
       "816247                     19  \n",
       "816248                     10  "
      ]
     },
     "execution_count": 13,
     "metadata": {},
     "output_type": "execute_result"
    }
   ],
   "source": [
    "bike_df.tail()"
   ]
  },
  {
   "cell_type": "markdown",
   "metadata": {},
   "source": [
    "### Weather"
   ]
  },
  {
   "cell_type": "code",
   "execution_count": 14,
   "metadata": {},
   "outputs": [],
   "source": [
    "sql = f\"\"\"\n",
    "\n",
    "SELECT * FROM weather\n",
    "\n",
    "\"\"\""
   ]
  },
  {
   "cell_type": "code",
   "execution_count": 15,
   "metadata": {},
   "outputs": [
    {
     "name": "stdout",
     "output_type": "stream",
     "text": [
      "2021-04-13 16:41:42,398 INFO sqlalchemy.engine.base.OptionEngine \n",
      "\n",
      "SELECT * FROM weather\n",
      "\n",
      "\n",
      "2021-04-13 16:41:42,400 INFO sqlalchemy.engine.base.OptionEngine {}\n"
     ]
    }
   ],
   "source": [
    "weather_df = pd.read_sql_query(sql, engine)"
   ]
  },
  {
   "cell_type": "code",
   "execution_count": 16,
   "metadata": {},
   "outputs": [
    {
     "data": {
      "text/plain": [
       "id                              int64\n",
       "description                    object\n",
       "temp                          float64\n",
       "last_update_weather    datetime64[ns]\n",
       "dtype: object"
      ]
     },
     "execution_count": 16,
     "metadata": {},
     "output_type": "execute_result"
    }
   ],
   "source": [
    "weather_df.dtypes"
   ]
  },
  {
   "cell_type": "markdown",
   "metadata": {},
   "source": [
    "#### Converting datatypes"
   ]
  },
  {
   "cell_type": "code",
   "execution_count": 17,
   "metadata": {},
   "outputs": [],
   "source": [
    "# category    \n",
    "weather_df['description'] = weather_df['description'].astype('category')    \n",
    "\n",
    "# datetime   \n",
    "weather_df['last_update_weather'] = weather_df['last_update_weather'].astype('datetime64[ns]')"
   ]
  },
  {
   "cell_type": "code",
   "execution_count": 18,
   "metadata": {},
   "outputs": [
    {
     "data": {
      "text/plain": [
       "id                              int64\n",
       "description                  category\n",
       "temp                          float64\n",
       "last_update_weather    datetime64[ns]\n",
       "dtype: object"
      ]
     },
     "execution_count": 18,
     "metadata": {},
     "output_type": "execute_result"
    }
   ],
   "source": [
    "weather_df.dtypes"
   ]
  },
  {
   "cell_type": "code",
   "execution_count": 19,
   "metadata": {},
   "outputs": [
    {
     "data": {
      "text/plain": [
       "(2874, 4)"
      ]
     },
     "execution_count": 19,
     "metadata": {},
     "output_type": "execute_result"
    }
   ],
   "source": [
    "weather_df.shape"
   ]
  },
  {
   "cell_type": "code",
   "execution_count": 20,
   "metadata": {},
   "outputs": [
    {
     "data": {
      "text/html": [
       "<div>\n",
       "<style scoped>\n",
       "    .dataframe tbody tr th:only-of-type {\n",
       "        vertical-align: middle;\n",
       "    }\n",
       "\n",
       "    .dataframe tbody tr th {\n",
       "        vertical-align: top;\n",
       "    }\n",
       "\n",
       "    .dataframe thead th {\n",
       "        text-align: right;\n",
       "    }\n",
       "</style>\n",
       "<table border=\"1\" class=\"dataframe\">\n",
       "  <thead>\n",
       "    <tr style=\"text-align: right;\">\n",
       "      <th></th>\n",
       "      <th>id</th>\n",
       "      <th>description</th>\n",
       "      <th>temp</th>\n",
       "      <th>last_update_weather</th>\n",
       "    </tr>\n",
       "  </thead>\n",
       "  <tbody>\n",
       "    <tr>\n",
       "      <th>2869</th>\n",
       "      <td>2870</td>\n",
       "      <td>broken clouds</td>\n",
       "      <td>7.50</td>\n",
       "      <td>2021-04-07 13:34:08</td>\n",
       "    </tr>\n",
       "    <tr>\n",
       "      <th>2870</th>\n",
       "      <td>2871</td>\n",
       "      <td>broken clouds</td>\n",
       "      <td>7.50</td>\n",
       "      <td>2021-04-07 13:40:02</td>\n",
       "    </tr>\n",
       "    <tr>\n",
       "      <th>2871</th>\n",
       "      <td>2872</td>\n",
       "      <td>broken clouds</td>\n",
       "      <td>7.41</td>\n",
       "      <td>2021-04-07 13:53:58</td>\n",
       "    </tr>\n",
       "    <tr>\n",
       "      <th>2872</th>\n",
       "      <td>2873</td>\n",
       "      <td>broken clouds</td>\n",
       "      <td>7.60</td>\n",
       "      <td>2021-04-07 14:04:43</td>\n",
       "    </tr>\n",
       "    <tr>\n",
       "      <th>2873</th>\n",
       "      <td>2874</td>\n",
       "      <td>broken clouds</td>\n",
       "      <td>7.88</td>\n",
       "      <td>2021-04-07 14:16:41</td>\n",
       "    </tr>\n",
       "  </tbody>\n",
       "</table>\n",
       "</div>"
      ],
      "text/plain": [
       "        id    description  temp last_update_weather\n",
       "2869  2870  broken clouds  7.50 2021-04-07 13:34:08\n",
       "2870  2871  broken clouds  7.50 2021-04-07 13:40:02\n",
       "2871  2872  broken clouds  7.41 2021-04-07 13:53:58\n",
       "2872  2873  broken clouds  7.60 2021-04-07 14:04:43\n",
       "2873  2874  broken clouds  7.88 2021-04-07 14:16:41"
      ]
     },
     "execution_count": 20,
     "metadata": {},
     "output_type": "execute_result"
    }
   ],
   "source": [
    "weather_df.tail()"
   ]
  },
  {
   "cell_type": "markdown",
   "metadata": {},
   "source": [
    "### Together - using pandas merge_asof"
   ]
  },
  {
   "cell_type": "code",
   "execution_count": 21,
   "metadata": {},
   "outputs": [],
   "source": [
    "bike_df.sort_values('last_update', inplace=True)\n",
    "weather_df.sort_values('last_update_weather', inplace=True) "
   ]
  },
  {
   "cell_type": "code",
   "execution_count": 22,
   "metadata": {},
   "outputs": [],
   "source": [
    "df = pd.merge_asof(bike_df, weather_df, left_on='last_update', right_on='last_update_weather')"
   ]
  },
  {
   "cell_type": "code",
   "execution_count": 23,
   "metadata": {},
   "outputs": [
    {
     "data": {
      "text/plain": [
       "(816249, 9)"
      ]
     },
     "execution_count": 23,
     "metadata": {},
     "output_type": "execute_result"
    }
   ],
   "source": [
    "df.shape"
   ]
  },
  {
   "cell_type": "code",
   "execution_count": 24,
   "metadata": {},
   "outputs": [],
   "source": [
    "df = df.drop(['last_update_weather'], axis=1)"
   ]
  },
  {
   "cell_type": "code",
   "execution_count": 25,
   "metadata": {},
   "outputs": [
    {
     "data": {
      "text/html": [
       "<div>\n",
       "<style scoped>\n",
       "    .dataframe tbody tr th:only-of-type {\n",
       "        vertical-align: middle;\n",
       "    }\n",
       "\n",
       "    .dataframe tbody tr th {\n",
       "        vertical-align: top;\n",
       "    }\n",
       "\n",
       "    .dataframe thead th {\n",
       "        text-align: right;\n",
       "    }\n",
       "</style>\n",
       "<table border=\"1\" class=\"dataframe\">\n",
       "  <thead>\n",
       "    <tr style=\"text-align: right;\">\n",
       "      <th></th>\n",
       "      <th>id_x</th>\n",
       "      <th>number</th>\n",
       "      <th>last_update</th>\n",
       "      <th>available_bikes</th>\n",
       "      <th>available_bike_stands</th>\n",
       "      <th>id_y</th>\n",
       "      <th>description</th>\n",
       "      <th>temp</th>\n",
       "    </tr>\n",
       "  </thead>\n",
       "  <tbody>\n",
       "    <tr>\n",
       "      <th>816244</th>\n",
       "      <td>816217</td>\n",
       "      <td>12</td>\n",
       "      <td>2021-04-13 15:38:54</td>\n",
       "      <td>3</td>\n",
       "      <td>17</td>\n",
       "      <td>2874.0</td>\n",
       "      <td>broken clouds</td>\n",
       "      <td>7.88</td>\n",
       "    </tr>\n",
       "    <tr>\n",
       "      <th>816245</th>\n",
       "      <td>816202</td>\n",
       "      <td>71</td>\n",
       "      <td>2021-04-13 15:38:57</td>\n",
       "      <td>14</td>\n",
       "      <td>25</td>\n",
       "      <td>2874.0</td>\n",
       "      <td>broken clouds</td>\n",
       "      <td>7.88</td>\n",
       "    </tr>\n",
       "    <tr>\n",
       "      <th>816246</th>\n",
       "      <td>816197</td>\n",
       "      <td>27</td>\n",
       "      <td>2021-04-13 15:38:59</td>\n",
       "      <td>12</td>\n",
       "      <td>8</td>\n",
       "      <td>2874.0</td>\n",
       "      <td>broken clouds</td>\n",
       "      <td>7.88</td>\n",
       "    </tr>\n",
       "    <tr>\n",
       "      <th>816247</th>\n",
       "      <td>816154</td>\n",
       "      <td>98</td>\n",
       "      <td>2021-04-13 15:39:00</td>\n",
       "      <td>4</td>\n",
       "      <td>36</td>\n",
       "      <td>2874.0</td>\n",
       "      <td>broken clouds</td>\n",
       "      <td>7.88</td>\n",
       "    </tr>\n",
       "    <tr>\n",
       "      <th>816248</th>\n",
       "      <td>816168</td>\n",
       "      <td>63</td>\n",
       "      <td>2021-04-13 15:39:02</td>\n",
       "      <td>7</td>\n",
       "      <td>28</td>\n",
       "      <td>2874.0</td>\n",
       "      <td>broken clouds</td>\n",
       "      <td>7.88</td>\n",
       "    </tr>\n",
       "  </tbody>\n",
       "</table>\n",
       "</div>"
      ],
      "text/plain": [
       "          id_x  number         last_update  available_bikes  \\\n",
       "816244  816217      12 2021-04-13 15:38:54                3   \n",
       "816245  816202      71 2021-04-13 15:38:57               14   \n",
       "816246  816197      27 2021-04-13 15:38:59               12   \n",
       "816247  816154      98 2021-04-13 15:39:00                4   \n",
       "816248  816168      63 2021-04-13 15:39:02                7   \n",
       "\n",
       "        available_bike_stands    id_y    description  temp  \n",
       "816244                     17  2874.0  broken clouds  7.88  \n",
       "816245                     25  2874.0  broken clouds  7.88  \n",
       "816246                      8  2874.0  broken clouds  7.88  \n",
       "816247                     36  2874.0  broken clouds  7.88  \n",
       "816248                     28  2874.0  broken clouds  7.88  "
      ]
     },
     "execution_count": 25,
     "metadata": {},
     "output_type": "execute_result"
    }
   ],
   "source": [
    "df.tail(5)"
   ]
  },
  {
   "cell_type": "code",
   "execution_count": 26,
   "metadata": {},
   "outputs": [],
   "source": [
    "df = df.drop(['id_y'], axis=1)"
   ]
  },
  {
   "cell_type": "code",
   "execution_count": 27,
   "metadata": {},
   "outputs": [],
   "source": [
    "df = df.drop(['id_x'], axis=1)"
   ]
  },
  {
   "cell_type": "markdown",
   "metadata": {},
   "source": [
    "#### The hour dummy variables"
   ]
  },
  {
   "cell_type": "code",
   "execution_count": 28,
   "metadata": {},
   "outputs": [],
   "source": [
    "# New column called hourly \n",
    "\n",
    "df['hourly'] = df['last_update'].dt.hour\n",
    "\n",
    "hourly_dummies = pd.get_dummies(df['hourly'], prefix='hour')\n",
    "\n",
    "df = pd.concat([df, hourly_dummies], axis=1)\n",
    "\n",
    "# list of  hour dummies\n",
    "hour_dummies = list(hourly_dummies)\n",
    "\n",
    "# drop original column\n",
    "df = df.drop(['hourly'], axis=1)\n"
   ]
  },
  {
   "cell_type": "markdown",
   "metadata": {},
   "source": [
    "### The dataframe "
   ]
  },
  {
   "cell_type": "code",
   "execution_count": 31,
   "metadata": {},
   "outputs": [
    {
     "data": {
      "text/html": [
       "<div>\n",
       "<style scoped>\n",
       "    .dataframe tbody tr th:only-of-type {\n",
       "        vertical-align: middle;\n",
       "    }\n",
       "\n",
       "    .dataframe tbody tr th {\n",
       "        vertical-align: top;\n",
       "    }\n",
       "\n",
       "    .dataframe thead th {\n",
       "        text-align: right;\n",
       "    }\n",
       "</style>\n",
       "<table border=\"1\" class=\"dataframe\">\n",
       "  <thead>\n",
       "    <tr style=\"text-align: right;\">\n",
       "      <th></th>\n",
       "      <th>number</th>\n",
       "      <th>last_update</th>\n",
       "      <th>available_bikes</th>\n",
       "      <th>available_bike_stands</th>\n",
       "      <th>description</th>\n",
       "      <th>temp</th>\n",
       "      <th>hour_0</th>\n",
       "      <th>hour_1</th>\n",
       "      <th>hour_2</th>\n",
       "      <th>hour_3</th>\n",
       "      <th>...</th>\n",
       "      <th>hour_14</th>\n",
       "      <th>hour_15</th>\n",
       "      <th>hour_16</th>\n",
       "      <th>hour_17</th>\n",
       "      <th>hour_18</th>\n",
       "      <th>hour_19</th>\n",
       "      <th>hour_20</th>\n",
       "      <th>hour_21</th>\n",
       "      <th>hour_22</th>\n",
       "      <th>hour_23</th>\n",
       "    </tr>\n",
       "  </thead>\n",
       "  <tbody>\n",
       "    <tr>\n",
       "      <th>816244</th>\n",
       "      <td>12</td>\n",
       "      <td>2021-04-13 15:38:54</td>\n",
       "      <td>3</td>\n",
       "      <td>17</td>\n",
       "      <td>broken clouds</td>\n",
       "      <td>7.88</td>\n",
       "      <td>0</td>\n",
       "      <td>0</td>\n",
       "      <td>0</td>\n",
       "      <td>0</td>\n",
       "      <td>...</td>\n",
       "      <td>0</td>\n",
       "      <td>1</td>\n",
       "      <td>0</td>\n",
       "      <td>0</td>\n",
       "      <td>0</td>\n",
       "      <td>0</td>\n",
       "      <td>0</td>\n",
       "      <td>0</td>\n",
       "      <td>0</td>\n",
       "      <td>0</td>\n",
       "    </tr>\n",
       "    <tr>\n",
       "      <th>816245</th>\n",
       "      <td>71</td>\n",
       "      <td>2021-04-13 15:38:57</td>\n",
       "      <td>14</td>\n",
       "      <td>25</td>\n",
       "      <td>broken clouds</td>\n",
       "      <td>7.88</td>\n",
       "      <td>0</td>\n",
       "      <td>0</td>\n",
       "      <td>0</td>\n",
       "      <td>0</td>\n",
       "      <td>...</td>\n",
       "      <td>0</td>\n",
       "      <td>1</td>\n",
       "      <td>0</td>\n",
       "      <td>0</td>\n",
       "      <td>0</td>\n",
       "      <td>0</td>\n",
       "      <td>0</td>\n",
       "      <td>0</td>\n",
       "      <td>0</td>\n",
       "      <td>0</td>\n",
       "    </tr>\n",
       "    <tr>\n",
       "      <th>816246</th>\n",
       "      <td>27</td>\n",
       "      <td>2021-04-13 15:38:59</td>\n",
       "      <td>12</td>\n",
       "      <td>8</td>\n",
       "      <td>broken clouds</td>\n",
       "      <td>7.88</td>\n",
       "      <td>0</td>\n",
       "      <td>0</td>\n",
       "      <td>0</td>\n",
       "      <td>0</td>\n",
       "      <td>...</td>\n",
       "      <td>0</td>\n",
       "      <td>1</td>\n",
       "      <td>0</td>\n",
       "      <td>0</td>\n",
       "      <td>0</td>\n",
       "      <td>0</td>\n",
       "      <td>0</td>\n",
       "      <td>0</td>\n",
       "      <td>0</td>\n",
       "      <td>0</td>\n",
       "    </tr>\n",
       "    <tr>\n",
       "      <th>816247</th>\n",
       "      <td>98</td>\n",
       "      <td>2021-04-13 15:39:00</td>\n",
       "      <td>4</td>\n",
       "      <td>36</td>\n",
       "      <td>broken clouds</td>\n",
       "      <td>7.88</td>\n",
       "      <td>0</td>\n",
       "      <td>0</td>\n",
       "      <td>0</td>\n",
       "      <td>0</td>\n",
       "      <td>...</td>\n",
       "      <td>0</td>\n",
       "      <td>1</td>\n",
       "      <td>0</td>\n",
       "      <td>0</td>\n",
       "      <td>0</td>\n",
       "      <td>0</td>\n",
       "      <td>0</td>\n",
       "      <td>0</td>\n",
       "      <td>0</td>\n",
       "      <td>0</td>\n",
       "    </tr>\n",
       "    <tr>\n",
       "      <th>816248</th>\n",
       "      <td>63</td>\n",
       "      <td>2021-04-13 15:39:02</td>\n",
       "      <td>7</td>\n",
       "      <td>28</td>\n",
       "      <td>broken clouds</td>\n",
       "      <td>7.88</td>\n",
       "      <td>0</td>\n",
       "      <td>0</td>\n",
       "      <td>0</td>\n",
       "      <td>0</td>\n",
       "      <td>...</td>\n",
       "      <td>0</td>\n",
       "      <td>1</td>\n",
       "      <td>0</td>\n",
       "      <td>0</td>\n",
       "      <td>0</td>\n",
       "      <td>0</td>\n",
       "      <td>0</td>\n",
       "      <td>0</td>\n",
       "      <td>0</td>\n",
       "      <td>0</td>\n",
       "    </tr>\n",
       "  </tbody>\n",
       "</table>\n",
       "<p>5 rows × 30 columns</p>\n",
       "</div>"
      ],
      "text/plain": [
       "        number         last_update  available_bikes  available_bike_stands  \\\n",
       "816244      12 2021-04-13 15:38:54                3                     17   \n",
       "816245      71 2021-04-13 15:38:57               14                     25   \n",
       "816246      27 2021-04-13 15:38:59               12                      8   \n",
       "816247      98 2021-04-13 15:39:00                4                     36   \n",
       "816248      63 2021-04-13 15:39:02                7                     28   \n",
       "\n",
       "          description  temp  hour_0  hour_1  hour_2  hour_3  ...  hour_14  \\\n",
       "816244  broken clouds  7.88       0       0       0       0  ...        0   \n",
       "816245  broken clouds  7.88       0       0       0       0  ...        0   \n",
       "816246  broken clouds  7.88       0       0       0       0  ...        0   \n",
       "816247  broken clouds  7.88       0       0       0       0  ...        0   \n",
       "816248  broken clouds  7.88       0       0       0       0  ...        0   \n",
       "\n",
       "        hour_15  hour_16  hour_17  hour_18  hour_19  hour_20  hour_21  \\\n",
       "816244        1        0        0        0        0        0        0   \n",
       "816245        1        0        0        0        0        0        0   \n",
       "816246        1        0        0        0        0        0        0   \n",
       "816247        1        0        0        0        0        0        0   \n",
       "816248        1        0        0        0        0        0        0   \n",
       "\n",
       "        hour_22  hour_23  \n",
       "816244        0        0  \n",
       "816245        0        0  \n",
       "816246        0        0  \n",
       "816247        0        0  \n",
       "816248        0        0  \n",
       "\n",
       "[5 rows x 30 columns]"
      ]
     },
     "execution_count": 31,
     "metadata": {},
     "output_type": "execute_result"
    }
   ],
   "source": [
    "df.tail(5)"
   ]
  },
  {
   "cell_type": "markdown",
   "metadata": {},
   "source": [
    "#### The datatypes"
   ]
  },
  {
   "cell_type": "code",
   "execution_count": 32,
   "metadata": {},
   "outputs": [
    {
     "data": {
      "text/plain": [
       "number                            int64\n",
       "last_update              datetime64[ns]\n",
       "available_bikes                   int64\n",
       "available_bike_stands             int64\n",
       "description                    category\n",
       "temp                            float64\n",
       "hour_0                            uint8\n",
       "hour_1                            uint8\n",
       "hour_2                            uint8\n",
       "hour_3                            uint8\n",
       "hour_4                            uint8\n",
       "hour_5                            uint8\n",
       "hour_6                            uint8\n",
       "hour_7                            uint8\n",
       "hour_8                            uint8\n",
       "hour_9                            uint8\n",
       "hour_10                           uint8\n",
       "hour_11                           uint8\n",
       "hour_12                           uint8\n",
       "hour_13                           uint8\n",
       "hour_14                           uint8\n",
       "hour_15                           uint8\n",
       "hour_16                           uint8\n",
       "hour_17                           uint8\n",
       "hour_18                           uint8\n",
       "hour_19                           uint8\n",
       "hour_20                           uint8\n",
       "hour_21                           uint8\n",
       "hour_22                           uint8\n",
       "hour_23                           uint8\n",
       "dtype: object"
      ]
     },
     "execution_count": 32,
     "metadata": {},
     "output_type": "execute_result"
    }
   ],
   "source": [
    "df.dtypes"
   ]
  },
  {
   "cell_type": "markdown",
   "metadata": {},
   "source": [
    "### Descriptive statistics: Continuous Features"
   ]
  },
  {
   "cell_type": "code",
   "execution_count": 36,
   "metadata": {},
   "outputs": [
    {
     "data": {
      "text/html": [
       "<div>\n",
       "<style scoped>\n",
       "    .dataframe tbody tr th:only-of-type {\n",
       "        vertical-align: middle;\n",
       "    }\n",
       "\n",
       "    .dataframe tbody tr th {\n",
       "        vertical-align: top;\n",
       "    }\n",
       "\n",
       "    .dataframe thead th {\n",
       "        text-align: right;\n",
       "    }\n",
       "</style>\n",
       "<table border=\"1\" class=\"dataframe\">\n",
       "  <thead>\n",
       "    <tr style=\"text-align: right;\">\n",
       "      <th></th>\n",
       "      <th>count</th>\n",
       "      <th>mean</th>\n",
       "      <th>std</th>\n",
       "      <th>min</th>\n",
       "      <th>25%</th>\n",
       "      <th>50%</th>\n",
       "      <th>75%</th>\n",
       "      <th>max</th>\n",
       "    </tr>\n",
       "  </thead>\n",
       "  <tbody>\n",
       "    <tr>\n",
       "      <th>number</th>\n",
       "      <td>816249.0</td>\n",
       "      <td>60.659703</td>\n",
       "      <td>35.958579</td>\n",
       "      <td>2.0</td>\n",
       "      <td>31.0</td>\n",
       "      <td>61.0</td>\n",
       "      <td>90.0</td>\n",
       "      <td>507.0</td>\n",
       "    </tr>\n",
       "    <tr>\n",
       "      <th>available_bikes</th>\n",
       "      <td>816249.0</td>\n",
       "      <td>10.188831</td>\n",
       "      <td>7.107493</td>\n",
       "      <td>0.0</td>\n",
       "      <td>5.0</td>\n",
       "      <td>9.0</td>\n",
       "      <td>14.0</td>\n",
       "      <td>40.0</td>\n",
       "    </tr>\n",
       "    <tr>\n",
       "      <th>available_bike_stands</th>\n",
       "      <td>816249.0</td>\n",
       "      <td>21.788097</td>\n",
       "      <td>9.332593</td>\n",
       "      <td>0.0</td>\n",
       "      <td>15.0</td>\n",
       "      <td>22.0</td>\n",
       "      <td>29.0</td>\n",
       "      <td>40.0</td>\n",
       "    </tr>\n",
       "  </tbody>\n",
       "</table>\n",
       "</div>"
      ],
      "text/plain": [
       "                          count       mean        std  min   25%   50%   75%  \\\n",
       "number                 816249.0  60.659703  35.958579  2.0  31.0  61.0  90.0   \n",
       "available_bikes        816249.0  10.188831   7.107493  0.0   5.0   9.0  14.0   \n",
       "available_bike_stands  816249.0  21.788097   9.332593  0.0  15.0  22.0  29.0   \n",
       "\n",
       "                         max  \n",
       "number                 507.0  \n",
       "available_bikes         40.0  \n",
       "available_bike_stands   40.0  "
      ]
     },
     "execution_count": 36,
     "metadata": {},
     "output_type": "execute_result"
    }
   ],
   "source": [
    "# Print table with descriptive statistics for all the continuous features\n",
    "continuous_columns = df.select_dtypes(['int64']).columns\n",
    "df[continuous_columns].describe().T"
   ]
  },
  {
   "cell_type": "markdown",
   "metadata": {},
   "source": [
    "### Descriptive statistics: Categorical Features"
   ]
  },
  {
   "cell_type": "code",
   "execution_count": 37,
   "metadata": {},
   "outputs": [
    {
     "data": {
      "text/html": [
       "<div>\n",
       "<style scoped>\n",
       "    .dataframe tbody tr th:only-of-type {\n",
       "        vertical-align: middle;\n",
       "    }\n",
       "\n",
       "    .dataframe tbody tr th {\n",
       "        vertical-align: top;\n",
       "    }\n",
       "\n",
       "    .dataframe thead th {\n",
       "        text-align: right;\n",
       "    }\n",
       "</style>\n",
       "<table border=\"1\" class=\"dataframe\">\n",
       "  <thead>\n",
       "    <tr style=\"text-align: right;\">\n",
       "      <th></th>\n",
       "      <th>count</th>\n",
       "      <th>unique</th>\n",
       "      <th>top</th>\n",
       "      <th>freq</th>\n",
       "    </tr>\n",
       "  </thead>\n",
       "  <tbody>\n",
       "    <tr>\n",
       "      <th>description</th>\n",
       "      <td>815922</td>\n",
       "      <td>10</td>\n",
       "      <td>broken clouds</td>\n",
       "      <td>508501</td>\n",
       "    </tr>\n",
       "  </tbody>\n",
       "</table>\n",
       "</div>"
      ],
      "text/plain": [
       "              count unique            top    freq\n",
       "description  815922     10  broken clouds  508501"
      ]
     },
     "execution_count": 37,
     "metadata": {},
     "output_type": "execute_result"
    }
   ],
   "source": [
    "# Print table with descriptive statistics for all the categorical features\n",
    "categorical_columns = df.select_dtypes(['category']).columns\n",
    "df[categorical_columns].describe().T"
   ]
  },
  {
   "cell_type": "markdown",
   "metadata": {},
   "source": [
    "### Descriptive statistics: DateTime features"
   ]
  },
  {
   "cell_type": "code",
   "execution_count": 38,
   "metadata": {},
   "outputs": [
    {
     "data": {
      "text/html": [
       "<div>\n",
       "<style scoped>\n",
       "    .dataframe tbody tr th:only-of-type {\n",
       "        vertical-align: middle;\n",
       "    }\n",
       "\n",
       "    .dataframe tbody tr th {\n",
       "        vertical-align: top;\n",
       "    }\n",
       "\n",
       "    .dataframe thead th {\n",
       "        text-align: right;\n",
       "    }\n",
       "</style>\n",
       "<table border=\"1\" class=\"dataframe\">\n",
       "  <thead>\n",
       "    <tr style=\"text-align: right;\">\n",
       "      <th></th>\n",
       "      <th>count</th>\n",
       "      <th>unique</th>\n",
       "      <th>top</th>\n",
       "      <th>freq</th>\n",
       "      <th>first</th>\n",
       "      <th>last</th>\n",
       "    </tr>\n",
       "  </thead>\n",
       "  <tbody>\n",
       "    <tr>\n",
       "      <th>last_update</th>\n",
       "      <td>816249</td>\n",
       "      <td>353370</td>\n",
       "      <td>2021-03-29 00:41:04</td>\n",
       "      <td>156</td>\n",
       "      <td>2021-03-16 19:24:43</td>\n",
       "      <td>2021-04-13 15:39:02</td>\n",
       "    </tr>\n",
       "  </tbody>\n",
       "</table>\n",
       "</div>"
      ],
      "text/plain": [
       "              count  unique                 top freq               first  \\\n",
       "last_update  816249  353370 2021-03-29 00:41:04  156 2021-03-16 19:24:43   \n",
       "\n",
       "                           last  \n",
       "last_update 2021-04-13 15:39:02  "
      ]
     },
     "execution_count": 38,
     "metadata": {},
     "output_type": "execute_result"
    }
   ],
   "source": [
    "# Descriptive statistics for all the datetime features\n",
    "df.select_dtypes(['datetime64[ns]']).describe().T"
   ]
  },
  {
   "cell_type": "markdown",
   "metadata": {},
   "source": [
    "### Plot: box plots summary sheet for all the continuous features"
   ]
  },
  {
   "cell_type": "code",
   "execution_count": 40,
   "metadata": {
    "scrolled": true
   },
   "outputs": [
    {
     "data": {
      "image/png": "[encoded data removed]",
      "text/plain": [
       "<Figure size 2160x2160 with 24 Axes>"
      ]
     },
     "metadata": {
      "needs_background": "light"
     },
     "output_type": "display_data"
    }
   ],
   "source": [
    "df[continuous_columns].plot(kind='box', subplots=True, figsize=(30,30), layout=(6,4), sharex=False, sharey=False)\n",
    "plt.savefig('continuous_boxplots.pdf')"
   ]
  },
  {
   "cell_type": "markdown",
   "metadata": {},
   "source": [
    "### Plot box plots individual sheet for all the continuous features"
   ]
  },
  {
   "cell_type": "code",
   "execution_count": 64,
   "metadata": {},
   "outputs": [
    {
     "data": {
      "image/png": "[encoded data removed]",
      "text/plain": [
       "<Figure size 720x360 with 1 Axes>"
      ]
     },
     "metadata": {},
     "output_type": "display_data"
    },
    {
     "data": {
      "image/png": "[encoded data removed]",
      "text/plain": [
       "<Figure size 720x360 with 1 Axes>"
      ]
     },
     "metadata": {},
     "output_type": "display_data"
    },
    {
     "data": {
      "image/png": "[encoded data removed]",
      "text/plain": [
       "<Figure size 720x360 with 1 Axes>"
      ]
     },
     "metadata": {},
     "output_type": "display_data"
    },
    {
     "data": {
      "text/plain": [
       "<Figure size 432x288 with 0 Axes>"
      ]
     },
     "metadata": {},
     "output_type": "display_data"
    }
   ],
   "source": [
    "numeric_columns = df.select_dtypes(['int64']).columns\n",
    "for col in continuous_columns:\n",
    "    f = df[col].plot(kind='box', figsize=(10,5))\n",
    "    plt.show()    \n",
    "    plt.savefig('BoxPlot.pdf')"
   ]
  },
  {
   "cell_type": "markdown",
   "metadata": {},
   "source": [
    "### Plot bar plots individual sheet for all the categorical features"
   ]
  },
  {
   "cell_type": "code",
   "execution_count": 74,
   "metadata": {},
   "outputs": [
    {
     "data": {
      "image/png": "[encoded data removed]",
      "text/plain": [
       "<Figure size 864x720 with 1 Axes>"
      ]
     },
     "metadata": {},
     "output_type": "display_data"
    }
   ],
   "source": [
    "for col in categorical_columns:\n",
    "    f = df[col].value_counts().plot(kind='bar', figsize=(12,10))\n",
    "    plt.title(col)\n",
    "    plt.ylabel('Counts')\n",
    "    plt.savefig('BarPlot.pdf')\n",
    "    plt.show()\n"
   ]
  },
  {
   "cell_type": "markdown",
   "metadata": {},
   "source": [
    "### Correlations for the numeric features"
   ]
  },
  {
   "cell_type": "raw",
   "metadata": {},
   "source": [
    "A correlation matrix is a table showing correlation coefficients between variables. \n",
    "Each cell in the table shows the correlation between two variables"
   ]
  },
  {
   "cell_type": "code",
   "execution_count": 61,
   "metadata": {},
   "outputs": [
    {
     "data": {
      "image/png": "[encoded data removed]",
      "text/plain": [
       "<Figure size 792x648 with 2 Axes>"
      ]
     },
     "metadata": {},
     "output_type": "display_data"
    }
   ],
   "source": [
    "# Correlation matrix using code found on https://stanford.edu/~mwaskom/software/seaborn/examples/many_pairwise_correlations.html\n",
    "sns.set(style=\"dark\")\n",
    "continuous_columns1 = [\n",
    "                      'available_bikes',\n",
    "                      'available_bike_stands',\n",
    "                      'temp']\n",
    "# Calculate correlation of all pairs of continuous features\n",
    "corr = df[continuous_columns1].corr()\n",
    "\n",
    "# Generate a mask for the upper triangle\n",
    "mask = np.zeros_like(corr, dtype=np.bool)\n",
    "mask[np.triu_indices_from(mask)] = True\n",
    "\n",
    "# Set up the matplotlib figure\n",
    "f, ax = plt.subplots(figsize=(11, 9))\n",
    "\n",
    "# Generate a custom colormap - blue and red\n",
    "cmap = sns.diverging_palette(220, 10, as_cmap=True)\n",
    "\n",
    "# Draw the heatmap with the mask and correct aspect ratio\n",
    "sns.heatmap(corr, annot=True, mask=mask, cmap=cmap, vmax=1, vmin=-1,\n",
    "            square=True, xticklabels=True, yticklabels=True,\n",
    "            linewidths=.5, cbar_kws={\"shrink\": .5}, ax=ax)\n",
    "plt.yticks(rotation = 0)\n",
    "plt.xticks(rotation = 45)\n",
    "plt.savefig('CorrelationMatrix.pdf')"
   ]
  },
  {
   "cell_type": "raw",
   "metadata": {},
   "source": [
    "Positive correlation is a relationship between two variables in which both variables \n",
    "move in the same direction."
   ]
  },
  {
   "cell_type": "raw",
   "metadata": {},
   "source": [
    "Negative correlation is a relationship between two variables in \n",
    "which one variable increases as the other decreases, and vice versa"
   ]
  },
  {
   "cell_type": "code",
   "execution_count": null,
   "metadata": {},
   "outputs": [],
   "source": []
  }
 ],
 "metadata": {
  "kernelspec": {
   "display_name": "Python 3",
   "language": "python",
   "name": "python3"
  },
  "language_info": {
   "codemirror_mode": {
    "name": "ipython",
    "version": 3
   },
   "file_extension": ".py",
   "mimetype": "text/x-python",
   "name": "python",
   "nbconvert_exporter": "python",
   "pygments_lexer": "ipython3",
   "version": "3.7.4"
  }
 },
 "nbformat": 4,
 "nbformat_minor": 5
}
