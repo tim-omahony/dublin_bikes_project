{
 "cells": [
  {
   "cell_type": "code",
   "execution_count": 1,
   "metadata": {},
   "outputs": [],
   "source": [
    "import pandas as pd\n",
    "import matplotlib\n",
    "%matplotlib inline\n",
    "from sqlalchemy import create_engine\n",
    "import matplotlib.pyplot as plt\n",
    "import seaborn as sns\n",
    "import pymysql\n",
    "from sklearn.linear_model import LinearRegression\n",
    "from sklearn.model_selection import train_test_split\n",
    "from sklearn import metrics\n",
    "from sklearn.metrics import mean_squared_error\n",
    "import pickle\n",
    "import matplotlib.dates as mdates"
   ]
  },
  {
   "cell_type": "code",
   "execution_count": 2,
   "metadata": {},
   "outputs": [],
   "source": [
    "from sqlalchemy import create_engine\n",
    "USER = \"ciara\"\n",
    "PASSWORD = \"Ciara123\"\n",
    "PORT = \"3306\"\n",
    "DB = \"dbbikes\"\n",
    "URI = \"dbbikes.cvr6gofoxmkp.us-east-2.rds.amazonaws.com\"\n",
    "engine = create_engine(\"mysql+pymysql://{}:{}@{}:{}/{}\".format(USER, PASSWORD, URI, PORT, DB), echo=True)"
   ]
  },
  {
   "cell_type": "code",
   "execution_count": 3,
   "metadata": {},
   "outputs": [],
   "source": [
    "sql = f\"\"\"\n",
    "SELECT id, number, updated_on, available_bikes, available_bike_stands\n",
    "FROM dbbikes_info\n",
    "WHERE updated_on is not null and updated_on >= '2021-03-24 19:25:16'\n",
    "GROUP BY id, day(updated_on)\n",
    "ORDER by id desc, updated_on desc;\n",
    "\"\"\""
   ]
  },
  {
   "cell_type": "code",
   "execution_count": 4,
   "metadata": {},
   "outputs": [
    {
     "name": "stdout",
     "output_type": "stream",
     "text": [
      "2021-04-11 14:34:15,598 INFO sqlalchemy.engine.base.Engine SHOW VARIABLES LIKE 'sql_mode'\n",
      "2021-04-11 14:34:15,599 INFO sqlalchemy.engine.base.Engine {}\n",
      "2021-04-11 14:34:15,629 INFO sqlalchemy.engine.base.Engine SHOW VARIABLES LIKE 'lower_case_table_names'\n",
      "2021-04-11 14:34:15,630 INFO sqlalchemy.engine.base.Engine {}\n",
      "2021-04-11 14:34:15,693 INFO sqlalchemy.engine.base.Engine SELECT DATABASE()\n",
      "2021-04-11 14:34:15,694 INFO sqlalchemy.engine.base.Engine {}\n",
      "2021-04-11 14:34:15,750 INFO sqlalchemy.engine.base.Engine show collation where `Charset` = 'utf8mb4' and `Collation` = 'utf8mb4_bin'\n",
      "2021-04-11 14:34:15,751 INFO sqlalchemy.engine.base.Engine {}\n",
      "2021-04-11 14:34:15,781 INFO sqlalchemy.engine.base.Engine SELECT CAST('test plain returns' AS CHAR(60)) AS anon_1\n",
      "2021-04-11 14:34:15,782 INFO sqlalchemy.engine.base.Engine {}\n",
      "2021-04-11 14:34:15,810 INFO sqlalchemy.engine.base.Engine SELECT CAST('test unicode returns' AS CHAR(60)) AS anon_1\n",
      "2021-04-11 14:34:15,811 INFO sqlalchemy.engine.base.Engine {}\n",
      "2021-04-11 14:34:15,838 INFO sqlalchemy.engine.base.Engine SELECT CAST('test collated returns' AS CHAR CHARACTER SET utf8mb4) COLLATE utf8mb4_bin AS anon_1\n",
      "2021-04-11 14:34:15,839 INFO sqlalchemy.engine.base.Engine {}\n",
      "2021-04-11 14:34:15,919 INFO sqlalchemy.engine.base.OptionEngine \n",
      "SELECT id, number, updated_on, available_bikes, available_bike_stands\n",
      "FROM dbbikes_info\n",
      "WHERE updated_on is not null and updated_on >= '2021-03-24 19:25:16'\n",
      "GROUP BY id, day(updated_on)\n",
      "ORDER by id desc, updated_on desc;\n",
      "\n",
      "2021-04-11 14:34:15,921 INFO sqlalchemy.engine.base.OptionEngine {}\n"
     ]
    }
   ],
   "source": [
    "bike_df = pd.read_sql_query(sql, engine)"
   ]
  },
  {
   "cell_type": "code",
   "execution_count": 5,
   "metadata": {},
   "outputs": [
    {
     "data": {
      "text/html": [
       "<div>\n",
       "<style scoped>\n",
       "    .dataframe tbody tr th:only-of-type {\n",
       "        vertical-align: middle;\n",
       "    }\n",
       "\n",
       "    .dataframe tbody tr th {\n",
       "        vertical-align: top;\n",
       "    }\n",
       "\n",
       "    .dataframe thead th {\n",
       "        text-align: right;\n",
       "    }\n",
       "</style>\n",
       "<table border=\"1\" class=\"dataframe\">\n",
       "  <thead>\n",
       "    <tr style=\"text-align: right;\">\n",
       "      <th></th>\n",
       "      <th>id</th>\n",
       "      <th>number</th>\n",
       "      <th>updated_on</th>\n",
       "      <th>available_bikes</th>\n",
       "      <th>available_bike_stands</th>\n",
       "    </tr>\n",
       "  </thead>\n",
       "  <tbody>\n",
       "    <tr>\n",
       "      <th>0</th>\n",
       "      <td>1267838</td>\n",
       "      <td>88</td>\n",
       "      <td>2021-04-11 16:55:56</td>\n",
       "      <td>22</td>\n",
       "      <td>8</td>\n",
       "    </tr>\n",
       "    <tr>\n",
       "      <th>1</th>\n",
       "      <td>1267837</td>\n",
       "      <td>21</td>\n",
       "      <td>2021-04-11 16:52:37</td>\n",
       "      <td>9</td>\n",
       "      <td>21</td>\n",
       "    </tr>\n",
       "    <tr>\n",
       "      <th>2</th>\n",
       "      <td>1267836</td>\n",
       "      <td>92</td>\n",
       "      <td>2021-04-11 16:58:58</td>\n",
       "      <td>6</td>\n",
       "      <td>34</td>\n",
       "    </tr>\n",
       "    <tr>\n",
       "      <th>3</th>\n",
       "      <td>1267835</td>\n",
       "      <td>83</td>\n",
       "      <td>2021-04-11 16:57:08</td>\n",
       "      <td>12</td>\n",
       "      <td>27</td>\n",
       "    </tr>\n",
       "    <tr>\n",
       "      <th>4</th>\n",
       "      <td>1267834</td>\n",
       "      <td>39</td>\n",
       "      <td>2021-04-11 16:52:23</td>\n",
       "      <td>3</td>\n",
       "      <td>17</td>\n",
       "    </tr>\n",
       "    <tr>\n",
       "      <th>...</th>\n",
       "      <td>...</td>\n",
       "      <td>...</td>\n",
       "      <td>...</td>\n",
       "      <td>...</td>\n",
       "      <td>...</td>\n",
       "    </tr>\n",
       "    <tr>\n",
       "      <th>553267</th>\n",
       "      <td>714514</td>\n",
       "      <td>52</td>\n",
       "      <td>2021-03-24 19:27:10</td>\n",
       "      <td>0</td>\n",
       "      <td>32</td>\n",
       "    </tr>\n",
       "    <tr>\n",
       "      <th>553268</th>\n",
       "      <td>714513</td>\n",
       "      <td>32</td>\n",
       "      <td>2021-03-24 19:28:35</td>\n",
       "      <td>10</td>\n",
       "      <td>20</td>\n",
       "    </tr>\n",
       "    <tr>\n",
       "      <th>553269</th>\n",
       "      <td>714511</td>\n",
       "      <td>6</td>\n",
       "      <td>2021-03-24 19:28:23</td>\n",
       "      <td>2</td>\n",
       "      <td>18</td>\n",
       "    </tr>\n",
       "    <tr>\n",
       "      <th>553270</th>\n",
       "      <td>714507</td>\n",
       "      <td>30</td>\n",
       "      <td>2021-03-24 19:29:17</td>\n",
       "      <td>7</td>\n",
       "      <td>13</td>\n",
       "    </tr>\n",
       "    <tr>\n",
       "      <th>553271</th>\n",
       "      <td>714506</td>\n",
       "      <td>42</td>\n",
       "      <td>2021-03-24 19:28:58</td>\n",
       "      <td>24</td>\n",
       "      <td>6</td>\n",
       "    </tr>\n",
       "  </tbody>\n",
       "</table>\n",
       "<p>553272 rows × 5 columns</p>\n",
       "</div>"
      ],
      "text/plain": [
       "             id  number          updated_on  available_bikes  \\\n",
       "0       1267838      88 2021-04-11 16:55:56               22   \n",
       "1       1267837      21 2021-04-11 16:52:37                9   \n",
       "2       1267836      92 2021-04-11 16:58:58                6   \n",
       "3       1267835      83 2021-04-11 16:57:08               12   \n",
       "4       1267834      39 2021-04-11 16:52:23                3   \n",
       "...         ...     ...                 ...              ...   \n",
       "553267   714514      52 2021-03-24 19:27:10                0   \n",
       "553268   714513      32 2021-03-24 19:28:35               10   \n",
       "553269   714511       6 2021-03-24 19:28:23                2   \n",
       "553270   714507      30 2021-03-24 19:29:17                7   \n",
       "553271   714506      42 2021-03-24 19:28:58               24   \n",
       "\n",
       "        available_bike_stands  \n",
       "0                           8  \n",
       "1                          21  \n",
       "2                          34  \n",
       "3                          27  \n",
       "4                          17  \n",
       "...                       ...  \n",
       "553267                     32  \n",
       "553268                     20  \n",
       "553269                     18  \n",
       "553270                     13  \n",
       "553271                      6  \n",
       "\n",
       "[553272 rows x 5 columns]"
      ]
     },
     "execution_count": 5,
     "metadata": {},
     "output_type": "execute_result"
    }
   ],
   "source": [
    "bike_df['updated_on'] = bike_df['updated_on'].astype('datetime64[ns]')\n",
    "bike_df['updated_on'] = pd.to_datetime(bike_df['updated_on'])\n",
    "bike_df"
   ]
  },
  {
   "cell_type": "code",
   "execution_count": 6,
   "metadata": {},
   "outputs": [
    {
     "data": {
      "text/plain": [
       "id                                int64\n",
       "number                            int64\n",
       "updated_on               datetime64[ns]\n",
       "available_bikes                   int64\n",
       "available_bike_stands             int64\n",
       "dtype: object"
      ]
     },
     "execution_count": 6,
     "metadata": {},
     "output_type": "execute_result"
    }
   ],
   "source": [
    "bike_df.dtypes"
   ]
  },
  {
   "cell_type": "code",
   "execution_count": 7,
   "metadata": {},
   "outputs": [
    {
     "data": {
      "text/plain": [
       "(553272, 5)"
      ]
     },
     "execution_count": 7,
     "metadata": {},
     "output_type": "execute_result"
    }
   ],
   "source": [
    "bike_df.shape"
   ]
  },
  {
   "cell_type": "code",
   "execution_count": 8,
   "metadata": {},
   "outputs": [
    {
     "data": {
      "text/html": [
       "<div>\n",
       "<style scoped>\n",
       "    .dataframe tbody tr th:only-of-type {\n",
       "        vertical-align: middle;\n",
       "    }\n",
       "\n",
       "    .dataframe tbody tr th {\n",
       "        vertical-align: top;\n",
       "    }\n",
       "\n",
       "    .dataframe thead th {\n",
       "        text-align: right;\n",
       "    }\n",
       "</style>\n",
       "<table border=\"1\" class=\"dataframe\">\n",
       "  <thead>\n",
       "    <tr style=\"text-align: right;\">\n",
       "      <th></th>\n",
       "      <th>id</th>\n",
       "      <th>number</th>\n",
       "      <th>updated_on</th>\n",
       "      <th>available_bikes</th>\n",
       "      <th>available_bike_stands</th>\n",
       "    </tr>\n",
       "  </thead>\n",
       "  <tbody>\n",
       "    <tr>\n",
       "      <th>553267</th>\n",
       "      <td>714514</td>\n",
       "      <td>52</td>\n",
       "      <td>2021-03-24 19:27:10</td>\n",
       "      <td>0</td>\n",
       "      <td>32</td>\n",
       "    </tr>\n",
       "    <tr>\n",
       "      <th>553268</th>\n",
       "      <td>714513</td>\n",
       "      <td>32</td>\n",
       "      <td>2021-03-24 19:28:35</td>\n",
       "      <td>10</td>\n",
       "      <td>20</td>\n",
       "    </tr>\n",
       "    <tr>\n",
       "      <th>553269</th>\n",
       "      <td>714511</td>\n",
       "      <td>6</td>\n",
       "      <td>2021-03-24 19:28:23</td>\n",
       "      <td>2</td>\n",
       "      <td>18</td>\n",
       "    </tr>\n",
       "    <tr>\n",
       "      <th>553270</th>\n",
       "      <td>714507</td>\n",
       "      <td>30</td>\n",
       "      <td>2021-03-24 19:29:17</td>\n",
       "      <td>7</td>\n",
       "      <td>13</td>\n",
       "    </tr>\n",
       "    <tr>\n",
       "      <th>553271</th>\n",
       "      <td>714506</td>\n",
       "      <td>42</td>\n",
       "      <td>2021-03-24 19:28:58</td>\n",
       "      <td>24</td>\n",
       "      <td>6</td>\n",
       "    </tr>\n",
       "  </tbody>\n",
       "</table>\n",
       "</div>"
      ],
      "text/plain": [
       "            id  number          updated_on  available_bikes  \\\n",
       "553267  714514      52 2021-03-24 19:27:10                0   \n",
       "553268  714513      32 2021-03-24 19:28:35               10   \n",
       "553269  714511       6 2021-03-24 19:28:23                2   \n",
       "553270  714507      30 2021-03-24 19:29:17                7   \n",
       "553271  714506      42 2021-03-24 19:28:58               24   \n",
       "\n",
       "        available_bike_stands  \n",
       "553267                     32  \n",
       "553268                     20  \n",
       "553269                     18  \n",
       "553270                     13  \n",
       "553271                      6  "
      ]
     },
     "execution_count": 8,
     "metadata": {},
     "output_type": "execute_result"
    }
   ],
   "source": [
    "bike_df.tail()"
   ]
  },
  {
   "cell_type": "code",
   "execution_count": 9,
   "metadata": {},
   "outputs": [],
   "source": [
    "sql = f\"\"\"\n",
    "SELECT * FROM weather;\n",
    "\"\"\""
   ]
  },
  {
   "cell_type": "code",
   "execution_count": 10,
   "metadata": {},
   "outputs": [
    {
     "name": "stdout",
     "output_type": "stream",
     "text": [
      "2021-04-11 14:34:27,194 INFO sqlalchemy.engine.base.OptionEngine \n",
      "SELECT * FROM weather;\n",
      "\n",
      "2021-04-11 14:34:27,196 INFO sqlalchemy.engine.base.OptionEngine {}\n"
     ]
    }
   ],
   "source": [
    "weather_df = pd.read_sql_query(sql, engine)"
   ]
  },
  {
   "cell_type": "code",
   "execution_count": 11,
   "metadata": {},
   "outputs": [
    {
     "data": {
      "text/plain": [
       "id                      int64\n",
       "description            object\n",
       "temp                  float64\n",
       "last_update    datetime64[ns]\n",
       "dtype: object"
      ]
     },
     "execution_count": 11,
     "metadata": {},
     "output_type": "execute_result"
    }
   ],
   "source": [
    "weather_df.dtypes"
   ]
  },
  {
   "cell_type": "code",
   "execution_count": 12,
   "metadata": {},
   "outputs": [],
   "source": [
    "# category    \n",
    "weather_df['description'] = weather_df['description'].astype('category')    \n",
    "\n",
    "# datetime   \n",
    "weather_df['last_update'] = weather_df['last_update'].astype('datetime64[ns]')"
   ]
  },
  {
   "cell_type": "code",
   "execution_count": 13,
   "metadata": {},
   "outputs": [
    {
     "data": {
      "text/plain": [
       "id                      int64\n",
       "description          category\n",
       "temp                  float64\n",
       "last_update    datetime64[ns]\n",
       "dtype: object"
      ]
     },
     "execution_count": 13,
     "metadata": {},
     "output_type": "execute_result"
    }
   ],
   "source": [
    "weather_df.dtypes"
   ]
  },
  {
   "cell_type": "code",
   "execution_count": 14,
   "metadata": {},
   "outputs": [
    {
     "data": {
      "text/plain": [
       "(5017, 4)"
      ]
     },
     "execution_count": 14,
     "metadata": {},
     "output_type": "execute_result"
    }
   ],
   "source": [
    "weather_df.shape"
   ]
  },
  {
   "cell_type": "code",
   "execution_count": 15,
   "metadata": {},
   "outputs": [
    {
     "data": {
      "text/html": [
       "<div>\n",
       "<style scoped>\n",
       "    .dataframe tbody tr th:only-of-type {\n",
       "        vertical-align: middle;\n",
       "    }\n",
       "\n",
       "    .dataframe tbody tr th {\n",
       "        vertical-align: top;\n",
       "    }\n",
       "\n",
       "    .dataframe thead th {\n",
       "        text-align: right;\n",
       "    }\n",
       "</style>\n",
       "<table border=\"1\" class=\"dataframe\">\n",
       "  <thead>\n",
       "    <tr style=\"text-align: right;\">\n",
       "      <th></th>\n",
       "      <th>id</th>\n",
       "      <th>description</th>\n",
       "      <th>temp</th>\n",
       "      <th>last_update</th>\n",
       "    </tr>\n",
       "  </thead>\n",
       "  <tbody>\n",
       "    <tr>\n",
       "      <th>5012</th>\n",
       "      <td>5013</td>\n",
       "      <td>light rain</td>\n",
       "      <td>6.08</td>\n",
       "      <td>2021-04-11 18:00:28</td>\n",
       "    </tr>\n",
       "    <tr>\n",
       "      <th>5013</th>\n",
       "      <td>5014</td>\n",
       "      <td>light rain</td>\n",
       "      <td>6.08</td>\n",
       "      <td>2021-04-11 18:00:28</td>\n",
       "    </tr>\n",
       "    <tr>\n",
       "      <th>5014</th>\n",
       "      <td>5015</td>\n",
       "      <td>moderate rain</td>\n",
       "      <td>5.76</td>\n",
       "      <td>2021-04-11 18:20:02</td>\n",
       "    </tr>\n",
       "    <tr>\n",
       "      <th>5015</th>\n",
       "      <td>5016</td>\n",
       "      <td>moderate rain</td>\n",
       "      <td>5.76</td>\n",
       "      <td>2021-04-11 18:20:02</td>\n",
       "    </tr>\n",
       "    <tr>\n",
       "      <th>5016</th>\n",
       "      <td>5017</td>\n",
       "      <td>moderate rain</td>\n",
       "      <td>5.76</td>\n",
       "      <td>2021-04-11 18:20:02</td>\n",
       "    </tr>\n",
       "  </tbody>\n",
       "</table>\n",
       "</div>"
      ],
      "text/plain": [
       "        id    description  temp         last_update\n",
       "5012  5013     light rain  6.08 2021-04-11 18:00:28\n",
       "5013  5014     light rain  6.08 2021-04-11 18:00:28\n",
       "5014  5015  moderate rain  5.76 2021-04-11 18:20:02\n",
       "5015  5016  moderate rain  5.76 2021-04-11 18:20:02\n",
       "5016  5017  moderate rain  5.76 2021-04-11 18:20:02"
      ]
     },
     "execution_count": 15,
     "metadata": {},
     "output_type": "execute_result"
    }
   ],
   "source": [
    "weather_df.tail()"
   ]
  },
  {
   "cell_type": "code",
   "execution_count": 16,
   "metadata": {},
   "outputs": [],
   "source": [
    "bike_df.sort_values('updated_on', inplace=True)\n",
    "weather_df.sort_values('last_update', inplace=True) "
   ]
  },
  {
   "cell_type": "code",
   "execution_count": 17,
   "metadata": {},
   "outputs": [],
   "source": [
    "df = pd.merge_asof(bike_df, weather_df, left_on='updated_on', right_on='last_update')"
   ]
  },
  {
   "cell_type": "code",
   "execution_count": 18,
   "metadata": {},
   "outputs": [
    {
     "data": {
      "text/plain": [
       "(553272, 9)"
      ]
     },
     "execution_count": 18,
     "metadata": {},
     "output_type": "execute_result"
    }
   ],
   "source": [
    "df.shape"
   ]
  },
  {
   "cell_type": "code",
   "execution_count": 19,
   "metadata": {},
   "outputs": [],
   "source": [
    "df = df.drop(['last_update'], axis=1)"
   ]
  },
  {
   "cell_type": "code",
   "execution_count": 20,
   "metadata": {},
   "outputs": [
    {
     "data": {
      "text/html": [
       "<div>\n",
       "<style scoped>\n",
       "    .dataframe tbody tr th:only-of-type {\n",
       "        vertical-align: middle;\n",
       "    }\n",
       "\n",
       "    .dataframe tbody tr th {\n",
       "        vertical-align: top;\n",
       "    }\n",
       "\n",
       "    .dataframe thead th {\n",
       "        text-align: right;\n",
       "    }\n",
       "</style>\n",
       "<table border=\"1\" class=\"dataframe\">\n",
       "  <thead>\n",
       "    <tr style=\"text-align: right;\">\n",
       "      <th></th>\n",
       "      <th>id_x</th>\n",
       "      <th>number</th>\n",
       "      <th>updated_on</th>\n",
       "      <th>available_bikes</th>\n",
       "      <th>available_bike_stands</th>\n",
       "      <th>id_y</th>\n",
       "      <th>description</th>\n",
       "      <th>temp</th>\n",
       "    </tr>\n",
       "  </thead>\n",
       "  <tbody>\n",
       "    <tr>\n",
       "      <th>553267</th>\n",
       "      <td>1267774</td>\n",
       "      <td>7</td>\n",
       "      <td>2021-04-11 16:59:24</td>\n",
       "      <td>5</td>\n",
       "      <td>24</td>\n",
       "      <td>5000</td>\n",
       "      <td>moderate rain</td>\n",
       "      <td>7.0</td>\n",
       "    </tr>\n",
       "    <tr>\n",
       "      <th>553268</th>\n",
       "      <td>1267751</td>\n",
       "      <td>90</td>\n",
       "      <td>2021-04-11 16:59:29</td>\n",
       "      <td>16</td>\n",
       "      <td>23</td>\n",
       "      <td>5000</td>\n",
       "      <td>moderate rain</td>\n",
       "      <td>7.0</td>\n",
       "    </tr>\n",
       "    <tr>\n",
       "      <th>553269</th>\n",
       "      <td>1267803</td>\n",
       "      <td>22</td>\n",
       "      <td>2021-04-11 16:59:32</td>\n",
       "      <td>8</td>\n",
       "      <td>12</td>\n",
       "      <td>5000</td>\n",
       "      <td>moderate rain</td>\n",
       "      <td>7.0</td>\n",
       "    </tr>\n",
       "    <tr>\n",
       "      <th>553270</th>\n",
       "      <td>1267793</td>\n",
       "      <td>69</td>\n",
       "      <td>2021-04-11 16:59:36</td>\n",
       "      <td>16</td>\n",
       "      <td>23</td>\n",
       "      <td>5000</td>\n",
       "      <td>moderate rain</td>\n",
       "      <td>7.0</td>\n",
       "    </tr>\n",
       "    <tr>\n",
       "      <th>553271</th>\n",
       "      <td>1267831</td>\n",
       "      <td>29</td>\n",
       "      <td>2021-04-11 16:59:39</td>\n",
       "      <td>19</td>\n",
       "      <td>9</td>\n",
       "      <td>5000</td>\n",
       "      <td>moderate rain</td>\n",
       "      <td>7.0</td>\n",
       "    </tr>\n",
       "  </tbody>\n",
       "</table>\n",
       "</div>"
      ],
      "text/plain": [
       "           id_x  number          updated_on  available_bikes  \\\n",
       "553267  1267774       7 2021-04-11 16:59:24                5   \n",
       "553268  1267751      90 2021-04-11 16:59:29               16   \n",
       "553269  1267803      22 2021-04-11 16:59:32                8   \n",
       "553270  1267793      69 2021-04-11 16:59:36               16   \n",
       "553271  1267831      29 2021-04-11 16:59:39               19   \n",
       "\n",
       "        available_bike_stands  id_y    description  temp  \n",
       "553267                     24  5000  moderate rain   7.0  \n",
       "553268                     23  5000  moderate rain   7.0  \n",
       "553269                     12  5000  moderate rain   7.0  \n",
       "553270                     23  5000  moderate rain   7.0  \n",
       "553271                      9  5000  moderate rain   7.0  "
      ]
     },
     "execution_count": 20,
     "metadata": {},
     "output_type": "execute_result"
    }
   ],
   "source": [
    "df.tail(5)"
   ]
  },
  {
   "cell_type": "code",
   "execution_count": 21,
   "metadata": {},
   "outputs": [],
   "source": [
    "df = df.drop(['id_y'], axis=1)"
   ]
  },
  {
   "cell_type": "code",
   "execution_count": 22,
   "metadata": {},
   "outputs": [],
   "source": [
    "df = df.drop(['id_x'], axis=1)"
   ]
  },
  {
   "cell_type": "code",
   "execution_count": 23,
   "metadata": {},
   "outputs": [
    {
     "data": {
      "text/html": [
       "<div>\n",
       "<style scoped>\n",
       "    .dataframe tbody tr th:only-of-type {\n",
       "        vertical-align: middle;\n",
       "    }\n",
       "\n",
       "    .dataframe tbody tr th {\n",
       "        vertical-align: top;\n",
       "    }\n",
       "\n",
       "    .dataframe thead th {\n",
       "        text-align: right;\n",
       "    }\n",
       "</style>\n",
       "<table border=\"1\" class=\"dataframe\">\n",
       "  <thead>\n",
       "    <tr style=\"text-align: right;\">\n",
       "      <th></th>\n",
       "      <th>number</th>\n",
       "      <th>updated_on</th>\n",
       "      <th>available_bikes</th>\n",
       "      <th>available_bike_stands</th>\n",
       "      <th>description</th>\n",
       "      <th>temp</th>\n",
       "    </tr>\n",
       "  </thead>\n",
       "  <tbody>\n",
       "    <tr>\n",
       "      <th>553267</th>\n",
       "      <td>7</td>\n",
       "      <td>2021-04-11 16:59:24</td>\n",
       "      <td>5</td>\n",
       "      <td>24</td>\n",
       "      <td>moderate rain</td>\n",
       "      <td>7.0</td>\n",
       "    </tr>\n",
       "    <tr>\n",
       "      <th>553268</th>\n",
       "      <td>90</td>\n",
       "      <td>2021-04-11 16:59:29</td>\n",
       "      <td>16</td>\n",
       "      <td>23</td>\n",
       "      <td>moderate rain</td>\n",
       "      <td>7.0</td>\n",
       "    </tr>\n",
       "    <tr>\n",
       "      <th>553269</th>\n",
       "      <td>22</td>\n",
       "      <td>2021-04-11 16:59:32</td>\n",
       "      <td>8</td>\n",
       "      <td>12</td>\n",
       "      <td>moderate rain</td>\n",
       "      <td>7.0</td>\n",
       "    </tr>\n",
       "    <tr>\n",
       "      <th>553270</th>\n",
       "      <td>69</td>\n",
       "      <td>2021-04-11 16:59:36</td>\n",
       "      <td>16</td>\n",
       "      <td>23</td>\n",
       "      <td>moderate rain</td>\n",
       "      <td>7.0</td>\n",
       "    </tr>\n",
       "    <tr>\n",
       "      <th>553271</th>\n",
       "      <td>29</td>\n",
       "      <td>2021-04-11 16:59:39</td>\n",
       "      <td>19</td>\n",
       "      <td>9</td>\n",
       "      <td>moderate rain</td>\n",
       "      <td>7.0</td>\n",
       "    </tr>\n",
       "  </tbody>\n",
       "</table>\n",
       "</div>"
      ],
      "text/plain": [
       "        number          updated_on  available_bikes  available_bike_stands  \\\n",
       "553267       7 2021-04-11 16:59:24                5                     24   \n",
       "553268      90 2021-04-11 16:59:29               16                     23   \n",
       "553269      22 2021-04-11 16:59:32                8                     12   \n",
       "553270      69 2021-04-11 16:59:36               16                     23   \n",
       "553271      29 2021-04-11 16:59:39               19                      9   \n",
       "\n",
       "          description  temp  \n",
       "553267  moderate rain   7.0  \n",
       "553268  moderate rain   7.0  \n",
       "553269  moderate rain   7.0  \n",
       "553270  moderate rain   7.0  \n",
       "553271  moderate rain   7.0  "
      ]
     },
     "execution_count": 23,
     "metadata": {},
     "output_type": "execute_result"
    }
   ],
   "source": [
    "df.tail(5)"
   ]
  },
  {
   "cell_type": "code",
   "execution_count": 24,
   "metadata": {},
   "outputs": [
    {
     "data": {
      "text/plain": [
       "(553272, 6)"
      ]
     },
     "execution_count": 24,
     "metadata": {},
     "output_type": "execute_result"
    }
   ],
   "source": [
    "df.shape"
   ]
  },
  {
   "cell_type": "code",
   "execution_count": 25,
   "metadata": {},
   "outputs": [
    {
     "name": "stdout",
     "output_type": "stream",
     "text": [
      "Number of duplicate (excluding first) rows in the table is:  252829\n",
      "Number of duplicate rows (including first) in the table is: 497467\n"
     ]
    }
   ],
   "source": [
    "print('Number of duplicate (excluding first) rows in the table is: ', df.duplicated().sum())\n",
    "\n",
    "print('Number of duplicate rows (including first) in the table is:', df[df.duplicated(keep=False)].shape[0])"
   ]
  },
  {
   "cell_type": "code",
   "execution_count": 26,
   "metadata": {},
   "outputs": [
    {
     "name": "stdout",
     "output_type": "stream",
     "text": [
      "Duplicate remaining rows: 0\n"
     ]
    }
   ],
   "source": [
    "df = df.drop_duplicates(keep='last')\n",
    "print('Duplicate remaining rows:', df[df.duplicated(keep='last')].shape[0])"
   ]
  },
  {
   "cell_type": "code",
   "execution_count": 27,
   "metadata": {},
   "outputs": [
    {
     "data": {
      "text/plain": [
       "(300443, 6)"
      ]
     },
     "execution_count": 27,
     "metadata": {},
     "output_type": "execute_result"
    }
   ],
   "source": [
    "df.shape"
   ]
  },
  {
   "cell_type": "code",
   "execution_count": 28,
   "metadata": {},
   "outputs": [
    {
     "data": {
      "text/html": [
       "<div>\n",
       "<style scoped>\n",
       "    .dataframe tbody tr th:only-of-type {\n",
       "        vertical-align: middle;\n",
       "    }\n",
       "\n",
       "    .dataframe tbody tr th {\n",
       "        vertical-align: top;\n",
       "    }\n",
       "\n",
       "    .dataframe thead th {\n",
       "        text-align: right;\n",
       "    }\n",
       "</style>\n",
       "<table border=\"1\" class=\"dataframe\">\n",
       "  <thead>\n",
       "    <tr style=\"text-align: right;\">\n",
       "      <th></th>\n",
       "      <th>number</th>\n",
       "      <th>updated_on</th>\n",
       "      <th>available_bikes</th>\n",
       "      <th>available_bike_stands</th>\n",
       "      <th>description</th>\n",
       "      <th>temp</th>\n",
       "    </tr>\n",
       "  </thead>\n",
       "  <tbody>\n",
       "    <tr>\n",
       "      <th>1</th>\n",
       "      <td>28</td>\n",
       "      <td>2021-03-24 19:25:34</td>\n",
       "      <td>3</td>\n",
       "      <td>27</td>\n",
       "      <td>clear sky</td>\n",
       "      <td>7.01</td>\n",
       "    </tr>\n",
       "    <tr>\n",
       "      <th>3</th>\n",
       "      <td>29</td>\n",
       "      <td>2021-03-24 19:25:40</td>\n",
       "      <td>1</td>\n",
       "      <td>28</td>\n",
       "      <td>clear sky</td>\n",
       "      <td>7.01</td>\n",
       "    </tr>\n",
       "    <tr>\n",
       "      <th>5</th>\n",
       "      <td>96</td>\n",
       "      <td>2021-03-24 19:25:43</td>\n",
       "      <td>15</td>\n",
       "      <td>15</td>\n",
       "      <td>clear sky</td>\n",
       "      <td>7.01</td>\n",
       "    </tr>\n",
       "    <tr>\n",
       "      <th>6</th>\n",
       "      <td>34</td>\n",
       "      <td>2021-03-24 19:25:45</td>\n",
       "      <td>12</td>\n",
       "      <td>17</td>\n",
       "      <td>clear sky</td>\n",
       "      <td>7.01</td>\n",
       "    </tr>\n",
       "    <tr>\n",
       "      <th>8</th>\n",
       "      <td>38</td>\n",
       "      <td>2021-03-24 19:26:04</td>\n",
       "      <td>16</td>\n",
       "      <td>24</td>\n",
       "      <td>clear sky</td>\n",
       "      <td>7.01</td>\n",
       "    </tr>\n",
       "    <tr>\n",
       "      <th>...</th>\n",
       "      <td>...</td>\n",
       "      <td>...</td>\n",
       "      <td>...</td>\n",
       "      <td>...</td>\n",
       "      <td>...</td>\n",
       "      <td>...</td>\n",
       "    </tr>\n",
       "    <tr>\n",
       "      <th>553267</th>\n",
       "      <td>7</td>\n",
       "      <td>2021-04-11 16:59:24</td>\n",
       "      <td>5</td>\n",
       "      <td>24</td>\n",
       "      <td>moderate rain</td>\n",
       "      <td>7.00</td>\n",
       "    </tr>\n",
       "    <tr>\n",
       "      <th>553268</th>\n",
       "      <td>90</td>\n",
       "      <td>2021-04-11 16:59:29</td>\n",
       "      <td>16</td>\n",
       "      <td>23</td>\n",
       "      <td>moderate rain</td>\n",
       "      <td>7.00</td>\n",
       "    </tr>\n",
       "    <tr>\n",
       "      <th>553269</th>\n",
       "      <td>22</td>\n",
       "      <td>2021-04-11 16:59:32</td>\n",
       "      <td>8</td>\n",
       "      <td>12</td>\n",
       "      <td>moderate rain</td>\n",
       "      <td>7.00</td>\n",
       "    </tr>\n",
       "    <tr>\n",
       "      <th>553270</th>\n",
       "      <td>69</td>\n",
       "      <td>2021-04-11 16:59:36</td>\n",
       "      <td>16</td>\n",
       "      <td>23</td>\n",
       "      <td>moderate rain</td>\n",
       "      <td>7.00</td>\n",
       "    </tr>\n",
       "    <tr>\n",
       "      <th>553271</th>\n",
       "      <td>29</td>\n",
       "      <td>2021-04-11 16:59:39</td>\n",
       "      <td>19</td>\n",
       "      <td>9</td>\n",
       "      <td>moderate rain</td>\n",
       "      <td>7.00</td>\n",
       "    </tr>\n",
       "  </tbody>\n",
       "</table>\n",
       "<p>300443 rows × 6 columns</p>\n",
       "</div>"
      ],
      "text/plain": [
       "        number          updated_on  available_bikes  available_bike_stands  \\\n",
       "1           28 2021-03-24 19:25:34                3                     27   \n",
       "3           29 2021-03-24 19:25:40                1                     28   \n",
       "5           96 2021-03-24 19:25:43               15                     15   \n",
       "6           34 2021-03-24 19:25:45               12                     17   \n",
       "8           38 2021-03-24 19:26:04               16                     24   \n",
       "...        ...                 ...              ...                    ...   \n",
       "553267       7 2021-04-11 16:59:24                5                     24   \n",
       "553268      90 2021-04-11 16:59:29               16                     23   \n",
       "553269      22 2021-04-11 16:59:32                8                     12   \n",
       "553270      69 2021-04-11 16:59:36               16                     23   \n",
       "553271      29 2021-04-11 16:59:39               19                      9   \n",
       "\n",
       "          description  temp  \n",
       "1           clear sky  7.01  \n",
       "3           clear sky  7.01  \n",
       "5           clear sky  7.01  \n",
       "6           clear sky  7.01  \n",
       "8           clear sky  7.01  \n",
       "...               ...   ...  \n",
       "553267  moderate rain  7.00  \n",
       "553268  moderate rain  7.00  \n",
       "553269  moderate rain  7.00  \n",
       "553270  moderate rain  7.00  \n",
       "553271  moderate rain  7.00  \n",
       "\n",
       "[300443 rows x 6 columns]"
      ]
     },
     "execution_count": 28,
     "metadata": {},
     "output_type": "execute_result"
    }
   ],
   "source": [
    "df"
   ]
  },
  {
   "cell_type": "code",
   "execution_count": 29,
   "metadata": {},
   "outputs": [
    {
     "data": {
      "text/plain": [
       "(300443, 6)"
      ]
     },
     "execution_count": 29,
     "metadata": {},
     "output_type": "execute_result"
    }
   ],
   "source": [
    "df.shape"
   ]
  },
  {
   "cell_type": "code",
   "execution_count": 30,
   "metadata": {},
   "outputs": [],
   "source": [
    "stations = list(sorted(df.number.unique()))"
   ]
  },
  {
   "cell_type": "code",
   "execution_count": 31,
   "metadata": {},
   "outputs": [
    {
     "name": "stdout",
     "output_type": "stream",
     "text": [
      "Index(['number', 'updated_on', 'available_bikes', 'available_bike_stands',\n",
      "       'description', 'temp'],\n",
      "      dtype='object')\n"
     ]
    }
   ],
   "source": [
    "print(df.keys())"
   ]
  },
  {
   "cell_type": "code",
   "execution_count": 32,
   "metadata": {},
   "outputs": [
    {
     "name": "stdout",
     "output_type": "stream",
     "text": [
      "1          3\n",
      "3          1\n",
      "5         15\n",
      "6         12\n",
      "8         16\n",
      "          ..\n",
      "553267     5\n",
      "553268    16\n",
      "553269     8\n",
      "553270    16\n",
      "553271    19\n",
      "Name: available_bikes, Length: 300443, dtype: int64\n"
     ]
    },
    {
     "data": {
      "text/plain": [
       "1     3\n",
       "3     1\n",
       "5    15\n",
       "6    12\n",
       "8    16\n",
       "Name: available_bikes, dtype: int64"
      ]
     },
     "execution_count": 32,
     "metadata": {},
     "output_type": "execute_result"
    }
   ],
   "source": [
    "y = df['available_bikes']\n",
    "print(y)\n",
    "y.head(5)"
   ]
  },
  {
   "cell_type": "code",
   "execution_count": 33,
   "metadata": {},
   "outputs": [
    {
     "name": "stdout",
     "output_type": "stream",
     "text": [
      "1        2021-03-24 19:25:34\n",
      "3        2021-03-24 19:25:40\n",
      "5        2021-03-24 19:25:43\n",
      "6        2021-03-24 19:25:45\n",
      "8        2021-03-24 19:26:04\n",
      "                 ...        \n",
      "553267   2021-04-11 16:59:24\n",
      "553268   2021-04-11 16:59:29\n",
      "553269   2021-04-11 16:59:32\n",
      "553270   2021-04-11 16:59:36\n",
      "553271   2021-04-11 16:59:39\n",
      "Name: updated_on, Length: 300443, dtype: datetime64[ns]\n"
     ]
    },
    {
     "data": {
      "text/plain": [
       "1   2021-03-24 19:25:34\n",
       "3   2021-03-24 19:25:40\n",
       "5   2021-03-24 19:25:43\n",
       "6   2021-03-24 19:25:45\n",
       "8   2021-03-24 19:26:04\n",
       "Name: updated_on, dtype: datetime64[ns]"
      ]
     },
     "execution_count": 33,
     "metadata": {},
     "output_type": "execute_result"
    }
   ],
   "source": [
    "X = df['updated_on'].astype('int64')\n",
    "print(X)\n",
    "X.head(5)\n",
    "# X = pd.DataFrame(df, columns=df.keys())\n",
    "# del X['available_bikes']\n",
    "# del X['description']\n",
    "# print(X)\n",
    "\n",
    "# X['updated_on'] = X['updated_on'].astype('int64')\n",
    "\n",
    "# X.dtypes"
   ]
  },
  {
   "cell_type": "code",
   "execution_count": 34,
   "metadata": {},
   "outputs": [
    {
     "ename": "ValueError",
     "evalue": "Expected 2D array, got 1D array instead:\narray=['2021-03-30T22:56:12.000000000' '2021-04-07T10:46:06.000000000'\n '2021-03-29T07:48:48.000000000' ... '2021-03-30T02:31:53.000000000'\n '2021-04-01T07:32:19.000000000' '2021-03-25T19:02:44.000000000'].\nReshape your data either using array.reshape(-1, 1) if your data has a single feature or array.reshape(1, -1) if it contains a single sample.",
     "output_type": "error",
     "traceback": [
      "\u001b[0;31m---------------------------------------------------------------------------\u001b[0m",
      "\u001b[0;31mValueError\u001b[0m                                Traceback (most recent call last)",
      "\u001b[0;32m<ipython-input-34-0350a9a86ba9>\u001b[0m in \u001b[0;36m<module>\u001b[0;34m\u001b[0m\n\u001b[1;32m      1\u001b[0m \u001b[0mX_train\u001b[0m\u001b[0;34m,\u001b[0m \u001b[0mX_test\u001b[0m\u001b[0;34m,\u001b[0m \u001b[0my_train\u001b[0m\u001b[0;34m,\u001b[0m \u001b[0my_test\u001b[0m \u001b[0;34m=\u001b[0m \u001b[0mtrain_test_split\u001b[0m\u001b[0;34m(\u001b[0m\u001b[0mX\u001b[0m\u001b[0;34m,\u001b[0m \u001b[0my\u001b[0m\u001b[0;34m,\u001b[0m \u001b[0mtest_size\u001b[0m\u001b[0;34m=\u001b[0m\u001b[0;36m0.3\u001b[0m\u001b[0;34m)\u001b[0m\u001b[0;34m\u001b[0m\u001b[0;34m\u001b[0m\u001b[0m\n\u001b[0;32m----> 2\u001b[0;31m \u001b[0mmodel\u001b[0m \u001b[0;34m=\u001b[0m \u001b[0mLinearRegression\u001b[0m\u001b[0;34m(\u001b[0m\u001b[0;34m)\u001b[0m\u001b[0;34m.\u001b[0m\u001b[0mfit\u001b[0m\u001b[0;34m(\u001b[0m\u001b[0mX_train\u001b[0m\u001b[0;34m,\u001b[0m \u001b[0my_train\u001b[0m\u001b[0;34m)\u001b[0m\u001b[0;34m\u001b[0m\u001b[0;34m\u001b[0m\u001b[0m\n\u001b[0m\u001b[1;32m      3\u001b[0m \u001b[0;34m\u001b[0m\u001b[0m\n\u001b[1;32m      4\u001b[0m \u001b[0;32mwith\u001b[0m \u001b[0mopen\u001b[0m\u001b[0;34m(\u001b[0m\u001b[0;34m'model.pkl'\u001b[0m\u001b[0;34m,\u001b[0m \u001b[0;34m'wb'\u001b[0m\u001b[0;34m)\u001b[0m \u001b[0;32mas\u001b[0m \u001b[0mhandle\u001b[0m\u001b[0;34m:\u001b[0m\u001b[0;34m\u001b[0m\u001b[0;34m\u001b[0m\u001b[0m\n\u001b[1;32m      5\u001b[0m     \u001b[0mpickle\u001b[0m\u001b[0;34m.\u001b[0m\u001b[0mdump\u001b[0m\u001b[0;34m(\u001b[0m\u001b[0mmodel\u001b[0m\u001b[0;34m,\u001b[0m \u001b[0mhandle\u001b[0m\u001b[0;34m,\u001b[0m \u001b[0mprotocol\u001b[0m \u001b[0;34m=\u001b[0m \u001b[0mpickle\u001b[0m\u001b[0;34m.\u001b[0m\u001b[0mHIGHEST_PROTOCOL\u001b[0m\u001b[0;34m)\u001b[0m\u001b[0;34m\u001b[0m\u001b[0;34m\u001b[0m\u001b[0m\n",
      "\u001b[0;32m~/opt/anaconda3/lib/python3.8/site-packages/sklearn/linear_model/_base.py\u001b[0m in \u001b[0;36mfit\u001b[0;34m(self, X, y, sample_weight)\u001b[0m\n\u001b[1;32m    503\u001b[0m \u001b[0;34m\u001b[0m\u001b[0m\n\u001b[1;32m    504\u001b[0m         \u001b[0mn_jobs_\u001b[0m \u001b[0;34m=\u001b[0m \u001b[0mself\u001b[0m\u001b[0;34m.\u001b[0m\u001b[0mn_jobs\u001b[0m\u001b[0;34m\u001b[0m\u001b[0;34m\u001b[0m\u001b[0m\n\u001b[0;32m--> 505\u001b[0;31m         X, y = self._validate_data(X, y, accept_sparse=['csr', 'csc', 'coo'],\n\u001b[0m\u001b[1;32m    506\u001b[0m                                    y_numeric=True, multi_output=True)\n\u001b[1;32m    507\u001b[0m \u001b[0;34m\u001b[0m\u001b[0m\n",
      "\u001b[0;32m~/opt/anaconda3/lib/python3.8/site-packages/sklearn/base.py\u001b[0m in \u001b[0;36m_validate_data\u001b[0;34m(self, X, y, reset, validate_separately, **check_params)\u001b[0m\n\u001b[1;32m    430\u001b[0m                 \u001b[0my\u001b[0m \u001b[0;34m=\u001b[0m \u001b[0mcheck_array\u001b[0m\u001b[0;34m(\u001b[0m\u001b[0my\u001b[0m\u001b[0;34m,\u001b[0m \u001b[0;34m**\u001b[0m\u001b[0mcheck_y_params\u001b[0m\u001b[0;34m)\u001b[0m\u001b[0;34m\u001b[0m\u001b[0;34m\u001b[0m\u001b[0m\n\u001b[1;32m    431\u001b[0m             \u001b[0;32melse\u001b[0m\u001b[0;34m:\u001b[0m\u001b[0;34m\u001b[0m\u001b[0;34m\u001b[0m\u001b[0m\n\u001b[0;32m--> 432\u001b[0;31m                 \u001b[0mX\u001b[0m\u001b[0;34m,\u001b[0m \u001b[0my\u001b[0m \u001b[0;34m=\u001b[0m \u001b[0mcheck_X_y\u001b[0m\u001b[0;34m(\u001b[0m\u001b[0mX\u001b[0m\u001b[0;34m,\u001b[0m \u001b[0my\u001b[0m\u001b[0;34m,\u001b[0m \u001b[0;34m**\u001b[0m\u001b[0mcheck_params\u001b[0m\u001b[0;34m)\u001b[0m\u001b[0;34m\u001b[0m\u001b[0;34m\u001b[0m\u001b[0m\n\u001b[0m\u001b[1;32m    433\u001b[0m             \u001b[0mout\u001b[0m \u001b[0;34m=\u001b[0m \u001b[0mX\u001b[0m\u001b[0;34m,\u001b[0m \u001b[0my\u001b[0m\u001b[0;34m\u001b[0m\u001b[0;34m\u001b[0m\u001b[0m\n\u001b[1;32m    434\u001b[0m \u001b[0;34m\u001b[0m\u001b[0m\n",
      "\u001b[0;32m~/opt/anaconda3/lib/python3.8/site-packages/sklearn/utils/validation.py\u001b[0m in \u001b[0;36minner_f\u001b[0;34m(*args, **kwargs)\u001b[0m\n\u001b[1;32m     70\u001b[0m                           FutureWarning)\n\u001b[1;32m     71\u001b[0m         \u001b[0mkwargs\u001b[0m\u001b[0;34m.\u001b[0m\u001b[0mupdate\u001b[0m\u001b[0;34m(\u001b[0m\u001b[0;34m{\u001b[0m\u001b[0mk\u001b[0m\u001b[0;34m:\u001b[0m \u001b[0marg\u001b[0m \u001b[0;32mfor\u001b[0m \u001b[0mk\u001b[0m\u001b[0;34m,\u001b[0m \u001b[0marg\u001b[0m \u001b[0;32min\u001b[0m \u001b[0mzip\u001b[0m\u001b[0;34m(\u001b[0m\u001b[0msig\u001b[0m\u001b[0;34m.\u001b[0m\u001b[0mparameters\u001b[0m\u001b[0;34m,\u001b[0m \u001b[0margs\u001b[0m\u001b[0;34m)\u001b[0m\u001b[0;34m}\u001b[0m\u001b[0;34m)\u001b[0m\u001b[0;34m\u001b[0m\u001b[0;34m\u001b[0m\u001b[0m\n\u001b[0;32m---> 72\u001b[0;31m         \u001b[0;32mreturn\u001b[0m \u001b[0mf\u001b[0m\u001b[0;34m(\u001b[0m\u001b[0;34m**\u001b[0m\u001b[0mkwargs\u001b[0m\u001b[0;34m)\u001b[0m\u001b[0;34m\u001b[0m\u001b[0;34m\u001b[0m\u001b[0m\n\u001b[0m\u001b[1;32m     73\u001b[0m     \u001b[0;32mreturn\u001b[0m \u001b[0minner_f\u001b[0m\u001b[0;34m\u001b[0m\u001b[0;34m\u001b[0m\u001b[0m\n\u001b[1;32m     74\u001b[0m \u001b[0;34m\u001b[0m\u001b[0m\n",
      "\u001b[0;32m~/opt/anaconda3/lib/python3.8/site-packages/sklearn/utils/validation.py\u001b[0m in \u001b[0;36mcheck_X_y\u001b[0;34m(X, y, accept_sparse, accept_large_sparse, dtype, order, copy, force_all_finite, ensure_2d, allow_nd, multi_output, ensure_min_samples, ensure_min_features, y_numeric, estimator)\u001b[0m\n\u001b[1;32m    793\u001b[0m         \u001b[0;32mraise\u001b[0m \u001b[0mValueError\u001b[0m\u001b[0;34m(\u001b[0m\u001b[0;34m\"y cannot be None\"\u001b[0m\u001b[0;34m)\u001b[0m\u001b[0;34m\u001b[0m\u001b[0;34m\u001b[0m\u001b[0m\n\u001b[1;32m    794\u001b[0m \u001b[0;34m\u001b[0m\u001b[0m\n\u001b[0;32m--> 795\u001b[0;31m     X = check_array(X, accept_sparse=accept_sparse,\n\u001b[0m\u001b[1;32m    796\u001b[0m                     \u001b[0maccept_large_sparse\u001b[0m\u001b[0;34m=\u001b[0m\u001b[0maccept_large_sparse\u001b[0m\u001b[0;34m,\u001b[0m\u001b[0;34m\u001b[0m\u001b[0;34m\u001b[0m\u001b[0m\n\u001b[1;32m    797\u001b[0m                     \u001b[0mdtype\u001b[0m\u001b[0;34m=\u001b[0m\u001b[0mdtype\u001b[0m\u001b[0;34m,\u001b[0m \u001b[0morder\u001b[0m\u001b[0;34m=\u001b[0m\u001b[0morder\u001b[0m\u001b[0;34m,\u001b[0m \u001b[0mcopy\u001b[0m\u001b[0;34m=\u001b[0m\u001b[0mcopy\u001b[0m\u001b[0;34m,\u001b[0m\u001b[0;34m\u001b[0m\u001b[0;34m\u001b[0m\u001b[0m\n",
      "\u001b[0;32m~/opt/anaconda3/lib/python3.8/site-packages/sklearn/utils/validation.py\u001b[0m in \u001b[0;36minner_f\u001b[0;34m(*args, **kwargs)\u001b[0m\n\u001b[1;32m     70\u001b[0m                           FutureWarning)\n\u001b[1;32m     71\u001b[0m         \u001b[0mkwargs\u001b[0m\u001b[0;34m.\u001b[0m\u001b[0mupdate\u001b[0m\u001b[0;34m(\u001b[0m\u001b[0;34m{\u001b[0m\u001b[0mk\u001b[0m\u001b[0;34m:\u001b[0m \u001b[0marg\u001b[0m \u001b[0;32mfor\u001b[0m \u001b[0mk\u001b[0m\u001b[0;34m,\u001b[0m \u001b[0marg\u001b[0m \u001b[0;32min\u001b[0m \u001b[0mzip\u001b[0m\u001b[0;34m(\u001b[0m\u001b[0msig\u001b[0m\u001b[0;34m.\u001b[0m\u001b[0mparameters\u001b[0m\u001b[0;34m,\u001b[0m \u001b[0margs\u001b[0m\u001b[0;34m)\u001b[0m\u001b[0;34m}\u001b[0m\u001b[0;34m)\u001b[0m\u001b[0;34m\u001b[0m\u001b[0;34m\u001b[0m\u001b[0m\n\u001b[0;32m---> 72\u001b[0;31m         \u001b[0;32mreturn\u001b[0m \u001b[0mf\u001b[0m\u001b[0;34m(\u001b[0m\u001b[0;34m**\u001b[0m\u001b[0mkwargs\u001b[0m\u001b[0;34m)\u001b[0m\u001b[0;34m\u001b[0m\u001b[0;34m\u001b[0m\u001b[0m\n\u001b[0m\u001b[1;32m     73\u001b[0m     \u001b[0;32mreturn\u001b[0m \u001b[0minner_f\u001b[0m\u001b[0;34m\u001b[0m\u001b[0;34m\u001b[0m\u001b[0m\n\u001b[1;32m     74\u001b[0m \u001b[0;34m\u001b[0m\u001b[0m\n",
      "\u001b[0;32m~/opt/anaconda3/lib/python3.8/site-packages/sklearn/utils/validation.py\u001b[0m in \u001b[0;36mcheck_array\u001b[0;34m(array, accept_sparse, accept_large_sparse, dtype, order, copy, force_all_finite, ensure_2d, allow_nd, ensure_min_samples, ensure_min_features, estimator)\u001b[0m\n\u001b[1;32m    617\u001b[0m             \u001b[0;31m# If input is 1D raise error\u001b[0m\u001b[0;34m\u001b[0m\u001b[0;34m\u001b[0m\u001b[0;34m\u001b[0m\u001b[0m\n\u001b[1;32m    618\u001b[0m             \u001b[0;32mif\u001b[0m \u001b[0marray\u001b[0m\u001b[0;34m.\u001b[0m\u001b[0mndim\u001b[0m \u001b[0;34m==\u001b[0m \u001b[0;36m1\u001b[0m\u001b[0;34m:\u001b[0m\u001b[0;34m\u001b[0m\u001b[0;34m\u001b[0m\u001b[0m\n\u001b[0;32m--> 619\u001b[0;31m                 raise ValueError(\n\u001b[0m\u001b[1;32m    620\u001b[0m                     \u001b[0;34m\"Expected 2D array, got 1D array instead:\\narray={}.\\n\"\u001b[0m\u001b[0;34m\u001b[0m\u001b[0;34m\u001b[0m\u001b[0m\n\u001b[1;32m    621\u001b[0m                     \u001b[0;34m\"Reshape your data either using array.reshape(-1, 1) if \"\u001b[0m\u001b[0;34m\u001b[0m\u001b[0;34m\u001b[0m\u001b[0m\n",
      "\u001b[0;31mValueError\u001b[0m: Expected 2D array, got 1D array instead:\narray=['2021-03-30T22:56:12.000000000' '2021-04-07T10:46:06.000000000'\n '2021-03-29T07:48:48.000000000' ... '2021-03-30T02:31:53.000000000'\n '2021-04-01T07:32:19.000000000' '2021-03-25T19:02:44.000000000'].\nReshape your data either using array.reshape(-1, 1) if your data has a single feature or array.reshape(1, -1) if it contains a single sample."
     ]
    }
   ],
   "source": [
    "X_train, X_test, y_train, y_test = train_test_split(X, y, test_size=0.3)\n",
    "model = LinearRegression().fit(X_train, y_train)\n",
    "\n",
    "with open('model.pkl', 'wb') as handle:\n",
    "    pickle.dump(model, handle, protocol = pickle.HIGHEST_PROTOCOL)"
   ]
  },
  {
   "cell_type": "code",
   "execution_count": null,
   "metadata": {},
   "outputs": [],
   "source": [
    "model.predict([[1649701681000000]])"
   ]
  }
 ],
 "metadata": {
  "kernelspec": {
   "display_name": "Python 3",
   "language": "python",
   "name": "python3"
  },
  "language_info": {
   "codemirror_mode": {
    "name": "ipython",
    "version": 3
   },
   "file_extension": ".py",
   "mimetype": "text/x-python",
   "name": "python",
   "nbconvert_exporter": "python",
   "pygments_lexer": "ipython3",
   "version": "3.8.5"
  }
 },
 "nbformat": 4,
 "nbformat_minor": 4
}
